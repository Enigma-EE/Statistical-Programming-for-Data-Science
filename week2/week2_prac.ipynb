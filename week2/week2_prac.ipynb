{
 "cells": [
  {
   "attachments": {},
   "cell_type": "markdown",
   "metadata": {},
   "source": [
    "### prac week02\n",
    "### Exercise 1: Loops"
   ]
  },
  {
   "attachments": {},
   "cell_type": "markdown",
   "metadata": {},
   "source": [
    "1. Use a for loop to print the numbers 1 to 10 to the screen. Now write this using a while loop."
   ]
  },
  {
   "cell_type": "code",
   "execution_count": 6,
   "metadata": {},
   "outputs": [
    {
     "name": "stdout",
     "output_type": "stream",
     "text": [
      "1 2 3 4 5 6 7 8 9 10 "
     ]
    }
   ],
   "source": [
    "# Use a for loop to print the numbers 1 to 10\n",
    "for i in range(1,11):\n",
    "    print(i, end=' ')"
   ]
  },
  {
   "cell_type": "code",
   "execution_count": 7,
   "metadata": {},
   "outputs": [
    {
     "name": "stdout",
     "output_type": "stream",
     "text": [
      "1 2 3 4 5 6 7 8 9 10 "
     ]
    }
   ],
   "source": [
    "# Use a while loop to print the numbers 1 to 10\n",
    "i = 1\n",
    "while i <= 10:\n",
    "    print(i, end=' ')\n",
    "    i += 1"
   ]
  },
  {
   "attachments": {},
   "cell_type": "markdown",
   "metadata": {},
   "source": [
    "2. Use a while loop to print the temperature along with the statement “The Weather is Fine!” for as long as the temperature is between 20 and 30 degrees. To simulate the weather, you can use the randint() function from the random module, with the lower bound set to 16 and the upper bound to 40\n"
   ]
  },
  {
   "cell_type": "code",
   "execution_count": 8,
   "metadata": {},
   "outputs": [
    {
     "name": "stdout",
     "output_type": "stream",
     "text": [
      "The value of i is :  38\n",
      "The Weather is not Fine!\n"
     ]
    }
   ],
   "source": [
    "import random\n",
    "# use a while loop to print the temperature\n",
    "i = random.randint(16, 40)\n",
    "print('The value of i is : ', i)\n",
    "while i >= 20 and i <= 30: # 20 <= i <= 30\n",
    "    print('The Weather is Fine!')\n",
    "    break # to stop the loop\n",
    "else:\n",
    "    print('The Weather is not Fine!')"
   ]
  },
  {
   "cell_type": "code",
   "execution_count": 9,
   "metadata": {},
   "outputs": [
    {
     "name": "stdout",
     "output_type": "stream",
     "text": [
      "The value of i is :  35\n",
      "The Weather is not Fine!\n"
     ]
    }
   ],
   "source": [
    "# use a for loop to print the temperature\n",
    "i = random.randint(16, 40)\n",
    "print('The value of i is : ', i)\n",
    "\n",
    "for i in range(i, 41):\n",
    "    if 20 <= i <= 30: # 20 <= i <= 30\n",
    "        print('The Weather is Fine!')\n",
    "        break # to stop the loop\n",
    "else:\n",
    "    print('The Weather is not Fine!')\n"
   ]
  },
  {
   "cell_type": "code",
   "execution_count": 10,
   "metadata": {},
   "outputs": [
    {
     "name": "stdout",
     "output_type": "stream",
     "text": [
      "The value of i is :  17\n",
      "The Weather is not Fine!\n"
     ]
    }
   ],
   "source": [
    "# use a if statement to print the temperature\n",
    "i = random.randint(16, 40)\n",
    "print('The value of i is : ', i)\n",
    "if i >= 20 and i <= 30: # 20 <= i <= 30\n",
    "    print('The Weather is Fine!')\n",
    "else:\n",
    "    print('The Weather is not Fine!')\n",
    "    "
   ]
  },
  {
   "attachments": {},
   "cell_type": "markdown",
   "metadata": {},
   "source": [
    "3. Why can’t you implement this as a for loop?\n"
   ]
  },
  {
   "attachments": {},
   "cell_type": "markdown",
   "metadata": {},
   "source": [
    "4. Use a for/while loop to print the days of the week"
   ]
  },
  {
   "cell_type": "code",
   "execution_count": 19,
   "metadata": {},
   "outputs": [
    {
     "name": "stdout",
     "output_type": "stream",
     "text": [
      "Mon Tue Wed Thu Fri Sat Sun "
     ]
    }
   ],
   "source": [
    "# get weekdays using calendar module\n",
    "import calendar\n",
    "days = calendar.weekheader(3).split()\n",
    "for day in days:\n",
    "    print(day, end=' ')\n",
    "    "
   ]
  },
  {
   "cell_type": "code",
   "execution_count": 14,
   "metadata": {},
   "outputs": [
    {
     "name": "stdout",
     "output_type": "stream",
     "text": [
      "Monday Tuesday Wednesday Thursday Friday Saturday Sunday "
     ]
    }
   ],
   "source": [
    "# use a while loop print the days of the week\n",
    "days_of_week = ['Monday', 'Tuesday', 'Wednesday', 'Thursday', 'Friday', 'Saturday', 'Sunday']\n",
    "\n",
    "index = 0\n",
    "while index < len(days_of_week):\n",
    "    print(days_of_week[index], end=' ')\n",
    "    index += 1"
   ]
  },
  {
   "attachments": {},
   "cell_type": "markdown",
   "metadata": {},
   "source": [
    "### Exercise 2: Loops and Input Processing"
   ]
  },
  {
   "attachments": {},
   "cell_type": "markdown",
   "metadata": {},
   "source": [
    "1. Prompts the user to enter five comma-separated integer numbers.\n",
    "2. Prints an error message if the user enters less than 5 numbers.\n",
    "3. Outputs the sum of these numbers to the screen.\n",
    "4. Outputs the number of valid values used in producing the cumulative sum."
   ]
  },
  {
   "cell_type": "code",
   "execution_count": 25,
   "metadata": {},
   "outputs": [
    {
     "name": "stdout",
     "output_type": "stream",
     "text": [
      "The numbers are:  [1, 2, 3]\n",
      "You have not entered five numbers, the sum is 6\n",
      "The number of valid values used in producing the cumulative sum is:  3\n"
     ]
    }
   ],
   "source": [
    "number_int = input('Enter five comma-separated integer numbers: ')\n",
    "number_list = number_int.split(',')\n",
    "# if the user enters not numbers,treat as NaN and exclude from the sum\n",
    "number_list = [int(i) for i in number_list if i.isdigit()]\n",
    "print('The numbers are: ', number_list)\n",
    "# print('The original list is: ', number_list)\n",
    "\n",
    "# Prints an error message if the user enters less than 5 numbers\n",
    "if len(number_list) != 5:\n",
    "    print('You have not entered five numbers, the sum is', sum(number_list))\n",
    "else:\n",
    "    print('The sum of the numbers is: ', sum(number_list))\n",
    "    # output the sum of the numbers\n",
    "\n",
    "# Outputs the number of valid values used in producing the cumulative sum\n",
    "print('The number of valid values used in producing the cumulative sum is: ', len(number_list))"
   ]
  },
  {
   "cell_type": "code",
   "execution_count": 2,
   "metadata": {},
   "outputs": [
    {
     "name": "stdout",
     "output_type": "stream",
     "text": [
      "You have not entered five numbers, the sum is 17\n",
      "The valid numbers are:  [1.0, 4.8, 4.0, 5.0, 7.0]\n",
      "The sum of the numbers is:  21.8\n",
      "The number of valid values used in producing the cumulative sum is:  5\n",
      "The invalid values are:  ['n', 'l']\n"
     ]
    }
   ],
   "source": [
    "nums = input('Enter five comma-separated numbers: ')\n",
    "nums = nums.split(',')\n",
    "\n",
    "if len(nums) != 5:\n",
    "    print('You have not entered five numbers, the sum is', sum([int(i) for i in nums if i.isdigit()]))\n",
    "\n",
    "# sum the numbers\n",
    "good_nums = []\n",
    "bad_nums = []\n",
    "\n",
    "for i in nums:\n",
    "    try:\n",
    "        good_nums.append(float(i))\n",
    "    except:\n",
    "        bad_nums.append(i)\n",
    "\n",
    "print('The valid numbers are: ', good_nums)\n",
    "print('The sum of the numbers is: ', sum(good_nums))\n",
    "print('The number of valid values used in producing the cumulative sum is: ', len(good_nums))\n",
    "print('The invalid values are: ', bad_nums)"
   ]
  },
  {
   "cell_type": "code",
   "execution_count": 7,
   "metadata": {},
   "outputs": [
    {
     "name": "stdout",
     "output_type": "stream",
     "text": [
      "You have not entered five numbers\n",
      "The sum of the numbers is:  36.0\n",
      "The number of valid values used in producing the cumulative sum is:  8\n",
      "The invalid values are:  1\n"
     ]
    }
   ],
   "source": [
    "nums = input('Enter five comma-separated numbers: ')\n",
    "nums = nums.split(',')\n",
    "\n",
    "if len(nums) != 5:\n",
    "    print('You have not entered five numbers')\n",
    "\n",
    "# sum the numbers\n",
    "\n",
    "for i in range(len(nums)):\n",
    "    try:\n",
    "        # foolproof\n",
    "        nums[i] = float(nums[i]) # convert the string to a float\n",
    "    except:\n",
    "        nums[i] = 0 # replace the invalid value with 0\n",
    "\n",
    "print('The sum of the numbers is: ', sum(nums))\n",
    "print('The number of valid values used in producing the cumulative sum is: ', len(nums)-nums.count(0))\n",
    "print('The invalid values are: ', nums.count(0))"
   ]
  },
  {
   "cell_type": "code",
   "execution_count": null,
   "metadata": {},
   "outputs": [],
   "source": [
    "# bad code\n",
    "nums = input('Enter five comma-separated numbers: ')\n",
    "nums = nums.split(',')\n",
    "\n",
    "while len(nums) != 5:\n",
    "    print('You have not entered five numbers')\n",
    "    nums = input('Enter five comma-separated numbers: ')\n",
    "    nums = nums.split(',') "
   ]
  },
  {
   "cell_type": "code",
   "execution_count": 9,
   "metadata": {},
   "outputs": [
    {
     "name": "stdout",
     "output_type": "stream",
     "text": [
      "The sum of the numbers is:  15.0\n",
      "The number of valid values used in producing the cumulative sum is:  5\n",
      "The invalid values are:  0\n"
     ]
    }
   ],
   "source": [
    "# loop until the user enters five numbers\n",
    "for i in range(5):\n",
    "    nums = input('Enter five comma-separated numbers: ')\n",
    "    nums = nums.split(',')\n",
    "    if len(nums) == 5:\n",
    "        break\n",
    "    else:\n",
    "        print('You have not entered five numbers')\n",
    "else :\n",
    "    print('You have not entered five numbers')\n",
    "\n",
    "# sum the numbers\n",
    "if len(nums) == 5:\n",
    "    for i in range(len(nums)):\n",
    "        try:\n",
    "            # foolproof\n",
    "            nums[i] = float(nums[i]) # convert the string to a float\n",
    "        except:\n",
    "            nums[i] = 0 # replace the invalid value with 0\n",
    "\n",
    "    print('The sum of the numbers is: ', sum(nums))\n",
    "    print('The number of valid values used in producing the cumulative sum is: ', len(nums)-nums.count(0))\n",
    "    print('The invalid values are: ', nums.count(0))"
   ]
  },
  {
   "cell_type": "code",
   "execution_count": 10,
   "metadata": {},
   "outputs": [
    {
     "name": "stdout",
     "output_type": "stream",
     "text": [
      "The sum of the numbers is:  15.0\n",
      "The number of valid values used in producing the cumulative sum is:  5\n",
      "The invalid values are:  0\n"
     ]
    }
   ],
   "source": [
    "while True:\n",
    "    nums = input('Enter five comma-separated numbers: ')\n",
    "    nums = nums.split(',')\n",
    "    if len(nums) == 5:\n",
    "        break\n",
    "    else:\n",
    "        print('You have not entered five numbers')\n",
    "\n",
    "# sum the numbers\n",
    "for i in range(len(nums)):\n",
    "    try:\n",
    "        # foolproof\n",
    "        nums[i] = float(nums[i]) # convert the string to a float\n",
    "    except:\n",
    "        nums[i] = 0 # replace the invalid value with 0\n",
    "\n",
    "print('The sum of the numbers is: ', sum(nums))\n",
    "print('The number of valid values used in producing the cumulative sum is: ', len(nums)-nums.count(0))\n",
    "print('The invalid values are: ', nums.count(0))"
   ]
  },
  {
   "attachments": {},
   "cell_type": "markdown",
   "metadata": {},
   "source": [
    "### Exercise 3: The mean of a data set"
   ]
  },
  {
   "attachments": {},
   "cell_type": "markdown",
   "metadata": {},
   "source": [
    "Write a script that computes the mean of a user-supplied tuple that contains at least 5 numbers. \n",
    "1. Prompts the user to enter at least five comma-separated integer numbers.\n",
    "2. Check the entry contains numbers. If there are any non-numerical elements treat these element as a NaN.\n",
    "3. Determine the number of valid numbers.\n",
    "4. Compute the mean. If there are NaNs, the calculation of the mean should be adjusted, to take only\n",
    "genuine numbers into account.\n",
    "5. Display the original entry, the mean and the number of valid numbers to the screen"
   ]
  },
  {
   "cell_type": "code",
   "execution_count": 11,
   "metadata": {},
   "outputs": [
    {
     "name": "stdout",
     "output_type": "stream",
     "text": [
      "The numbers are:  [1, 2, 3, 4, 5]\n",
      "The number of valid values is:  5\n",
      "The mean of the numbers is:  3.0\n",
      "The original list is:  ['1', '2', '3', '4', '5']\n"
     ]
    }
   ],
   "source": [
    "number_int = input('Enter at least five comma-separated integer numbers: ')\n",
    "number_list_0 = number_int.split(',')\n",
    "# if the user enters not numbers,treat as NaN and exclude from the sum\n",
    "number_list = [int(i) for i in number_list_0 if i.isdigit()]\n",
    "print('The numbers are: ', number_list)\n",
    "\n",
    "print('The number of valid values is: ', len(number_list))\n",
    "# compute the mean\n",
    "num_mean = sum(number_list) / len(number_list)\n",
    "print('The mean of the numbers is: ', float(num_mean))\n",
    "print('The original list is: ', number_list_0)"
   ]
  },
  {
   "attachments": {},
   "cell_type": "markdown",
   "metadata": {},
   "source": [
    "### Exercise 4: The standard deviation of a data set"
   ]
  },
  {
   "attachments": {},
   "cell_type": "markdown",
   "metadata": {},
   "source": [
    "Expand the script from Exercise 3 to also compute the standard deviation of the numerical elements. If\n",
    "there are less than 3 numerical elements entered, do not calculate the standard deviation. The full output\n",
    "should now be:\n",
    "1. The original entry\n",
    "2. The mean\n",
    "3. The standard deviation, if calculated, otherwise display a message telling the user the standard deviation was not able to be calculated.\n",
    "4. The number of valid numbers."
   ]
  },
  {
   "cell_type": "code",
   "execution_count": 30,
   "metadata": {},
   "outputs": [
    {
     "name": "stdout",
     "output_type": "stream",
     "text": [
      "The original list is:  ['1', '3', '66', '7', '5', '4', '3', 'b', 'v']\n",
      "The numbers are:  [1, 3, 66, 7, 5, 4, 3]\n",
      "The number of valid values is:  7\n",
      "The standard deviation of the numbers is:  21.82210076121575\n"
     ]
    }
   ],
   "source": [
    "number_int = input('Enter at least five comma-separated integer numbers: ')\n",
    "number_list_0 = number_int.split(',')\n",
    "print('The original list is: ', number_list_0)\n",
    "# if the user enters not numbers,treat as NaN and exclude from the sum\n",
    "number_list = [int(i) for i in number_list_0 if i.isdigit()]\n",
    "print('The numbers are: ', number_list)\n",
    "print('The number of valid values is: ', len(number_list))\n",
    "\n",
    "#  If there are less than 3 numerical elements entered, do not calculate the standard deviation\n",
    "if len(number_list) < 3:\n",
    "    print('There are less than 3 numerical elements entered, do not calculate the standard deviation')\n",
    "else:\n",
    "    # compute the mean\n",
    "    num_mean = sum(number_list) / len(number_list)\n",
    "    # compute the standard deviation\n",
    "    num_std = (sum([(i - num_mean) ** 2 for i in number_list]) / len(number_list)) ** 0.5\n",
    "    print('The standard deviation of the numbers is: ', num_std)\n",
    "\n"
   ]
  },
  {
   "cell_type": "code",
   "execution_count": 42,
   "metadata": {},
   "outputs": [
    {
     "name": "stdout",
     "output_type": "stream",
     "text": [
      "The original list is:  ['1', '2', '3.3', '55', 'hh', '5.5']\n",
      "The numbers are:  [1.0, 2.0, 3.3, 55.0, 5.5]\n",
      "The number of valid values is:  5\n",
      "The mean of the numbers is:  13.36\n",
      "The standard deviation of the numbers is:  23.34\n"
     ]
    }
   ],
   "source": [
    "number_d = input('Enter at least five comma-separated numbers: ')\n",
    "number_list_0 = number_d.split(',')\n",
    "print('The original list is: ', number_list_0)\n",
    "# if the user enters not numbers,treat as NaN and exclude from the sum\n",
    "number_list = [float(i) for i in number_list_0 if i.replace('.', '', 1).isdigit()] # replace('.', '', 1) replace the first dot\n",
    "print('The numbers are: ', number_list)\n",
    " \n",
    "if len(number_list) >= 5:\n",
    "    print('The number of valid values is: ', len(number_list))\n",
    "else:\n",
    "    print('The number of valid values is less than 5.')\n",
    "\n",
    "import statistics # import the statistics module\n",
    "#  If there are less than 3 numerical elements entered, do not calculate the standard deviation\n",
    "def mean_std_deviation():\n",
    "    # compute the mean\n",
    "    num_mean = statistics.mean(number_list)\n",
    "    # mean desplay 2 decimal places\n",
    "    print('The mean of the numbers is: ', format(num_mean, '.2f'))\n",
    "    # compute the standard deviation\n",
    "    num_std = statistics.stdev(number_list)\n",
    "    print('The standard deviation of the numbers is: ', format(num_std, '.2f'))\n",
    "mean_std_deviation()\n"
   ]
  },
  {
   "attachments": {},
   "cell_type": "markdown",
   "metadata": {},
   "source": [
    "### Exercise 5: Strings\n"
   ]
  },
  {
   "attachments": {},
   "cell_type": "markdown",
   "metadata": {},
   "source": [
    "For this exercise, you are asked to write a program that takes a string input from the user, and returns, as\n",
    "output, the entire message minus the vowels (a,e,i,o,u). E.g. if the input message is\\\n",
    "**Tim thinks this is a good exercise to try.**\\\n",
    "The output should look as follows:\\\n",
    "**Tm thnks ths s gd xrcs t try**\n"
   ]
  },
  {
   "cell_type": "code",
   "execution_count": 44,
   "metadata": {},
   "outputs": [
    {
     "name": "stdout",
     "output_type": "stream",
     "text": [
      " ddd Qz 2 bsd n ths wk mtrl nd tw xmpls f Tst 1 frm prvs yrs (n Wk 2 mn)\n"
     ]
    }
   ],
   "source": [
    "import re\n",
    "string_example = input(\"Enter a string: \")\n",
    "# I added Quiz 2 based on this week material and two examples of Test 1 from previous years\n",
    "string_without_vowels = re.sub(\"[aeiouAEIOU]\",\"\",string_example)\n",
    "print(string_without_vowels)"
   ]
  },
  {
   "cell_type": "code",
   "execution_count": 47,
   "metadata": {},
   "outputs": [
    {
     "name": "stdout",
     "output_type": "stream",
     "text": [
      " ddd Qz 2 bsd n ths wk mtrl nd tw xmpls f Tst 1 frm prvs yrs\n"
     ]
    }
   ],
   "source": [
    "def remove_vowels(string):\n",
    "  new_string = \"\"\n",
    "  for char in string:\n",
    "    if char.lower() not in \"aeiou\":\n",
    "      new_string += char\n",
    "  return new_string\n",
    "\n",
    "string_example = input(\"Enter a string: \")\n",
    "# I added Quiz 2 based on this week material and two examples of Test 1 from previous years\n",
    "string_without_vowels = remove_vowels(string_example)\n",
    "print(string_without_vowels)"
   ]
  },
  {
   "attachments": {},
   "cell_type": "markdown",
   "metadata": {},
   "source": [
    "### Exercise 6: String-palindrome"
   ]
  },
  {
   "attachments": {},
   "cell_type": "markdown",
   "metadata": {},
   "source": [
    "Write a program that takes, as input, any word or phrase, entered by the user, and determine whether that word or phrase is a palindrome. A palindrome is a word that reads the same in reverse order, \n",
    "e.g.\\\n",
    "• glenelg\\\n",
    "• Anna"
   ]
  },
  {
   "cell_type": "code",
   "execution_count": 49,
   "metadata": {},
   "outputs": [
    {
     "name": "stdout",
     "output_type": "stream",
     "text": [
      "The string is a palindrome\n"
     ]
    }
   ],
   "source": [
    "# whether the string is a palindrome\n",
    "string_1 = input('Enter a string: ')\n",
    "# convert the string to lowercase and remove the spaces\n",
    "string_2 = string_1.lower().replace(' ', '')\n",
    "# reverse the string and compare it with the original string\n",
    "if string_2 == string_2[::-1]:# slice the string from the end to the beginning\n",
    "    print('The string is a palindrome')\n",
    "else:\n",
    "    print('The string is not a palindrome')"
   ]
  },
  {
   "cell_type": "code",
   "execution_count": 17,
   "metadata": {},
   "outputs": [
    {
     "data": {
      "text/plain": [
       "True"
      ]
     },
     "execution_count": 17,
     "metadata": {},
     "output_type": "execute_result"
    }
   ],
   "source": [
    "text = 'Amore roma'\n",
    "\n",
    "text = text.lower()\n",
    "text_clean =\"\"\n",
    "\n",
    "for cnt in text:\n",
    "    if cnt.isalpha():\n",
    "        text_clean = text_clean + cnt\n",
    "\n",
    "my_text = text_clean[::-1]\n",
    "text_clean == my_text"
   ]
  },
  {
   "cell_type": "code",
   "execution_count": 18,
   "metadata": {},
   "outputs": [
    {
     "name": "stdout",
     "output_type": "stream",
     "text": [
      "The string is a palindrome\n"
     ]
    }
   ],
   "source": [
    "text = 'Amore roma'\n",
    "\n",
    "text = text.lower()\n",
    "text_clean =\"\"\n",
    "\n",
    "for cnt in text:\n",
    "    if cnt.isalpha():\n",
    "        text_clean = text_clean + cnt\n",
    "\n",
    "my_text = list(text_clean)\n",
    "my_text.reverse()\n",
    "my_text = \"\".join(my_text)\n",
    "\n",
    "if text_clean == my_text:\n",
    "    print(\"The string is a palindrome\")\n",
    "else:\n",
    "    print(\"The string is not a palindrome\")"
   ]
  },
  {
   "attachments": {},
   "cell_type": "markdown",
   "metadata": {},
   "source": [
    "### Exercise 7: Game 21"
   ]
  },
  {
   "attachments": {},
   "cell_type": "markdown",
   "metadata": {},
   "source": [
    "For this simplified version of the game, the cards drawn can take values 2 through to 11. Your code should:\n",
    "1. Prompt the player to draw one card and display the value of the card drawn.\n",
    "2. Ask whether they want to draw another card, or finish their game.\n",
    "3. If the player chooses to finish the game, output the sum of the cards drawn and the value of the next card, should they have chosen to draw another card. If the sum plus the value of the next card exceeds 21, print a congratulations message for stopping in time. Otherwise, print a loser’s message.\n",
    "4. If the user chooses to draw another card, then if the sum of the cards drawn to date plus the newly drawn card exceeds 21, output the sum and a loser’s message. Otherwise go to step 2 above.\n",
    "5. If you would like an extra challenge, then treat the value of 11 as the Ace card. This means that thecard can then either take on the value of 11, or the value of 1. If the user draws 11 and the value of 11 will cause them to lose, change the value to 1. Otherwise, keep the value of the card drawn as 11."
   ]
  },
  {
   "cell_type": "code",
   "execution_count": 74,
   "metadata": {},
   "outputs": [
    {
     "name": "stdout",
     "output_type": "stream",
     "text": [
      "The value of the card is: 2\n",
      "The value of the card is: 10\n",
      "The value of the card is: 3\n",
      "The value of the card is: 10\n",
      "the sum of the cards is:  25\n",
      "You lost\n"
     ]
    }
   ],
   "source": [
    "# 1\n",
    "\n",
    "import random\n",
    "\n",
    "# initialize variables\n",
    "cards = []\n",
    "sum_cards = 0\n",
    "\n",
    "# while loop to keep drawing cards until the sum exceeds 21 or user stops\n",
    "while sum_cards < 21:\n",
    "    card = random.randint(2, 11) \n",
    "    cards.append(card)  # add new card to list of cards drawn\n",
    "    print('The value of the card is:', card)\n",
    "    \n",
    "    # calculate total sum of cards\n",
    "    sum_cards = sum(cards)\n",
    "    \n",
    "    # check if user wants to draw another card\n",
    "    draw_again = input('Do you want to draw another card? (y/n): ')\n",
    "    \n",
    "    # exit loop if user doesn't want to draw another card\n",
    "    if draw_again.lower() == 'n':\n",
    "        print('the sum of the cards is: ', sum_cards)\n",
    "        break\n",
    "        \n",
    "# check if user won or lost\n",
    "if sum_cards > 21:\n",
    "    print('You lost')\n",
    "else:\n",
    "    print('You have reached a total of', str(sum_cards) + '.')"
   ]
  },
  {
   "cell_type": "code",
   "execution_count": 76,
   "metadata": {},
   "outputs": [
    {
     "name": "stdout",
     "output_type": "stream",
     "text": [
      "The value of the card is: 7\n",
      "The value of the card is: 8\n",
      "The value of the card is: 5\n",
      "The total sum of cards drawn is: 20\n"
     ]
    }
   ],
   "source": [
    "# 2 - without break statement and using a boolean variable\n",
    "#   - change the value of 11 to 1 if the sum exceeds 21\n",
    "import random\n",
    "\n",
    "playing = True # boolean variable to control the while loop\n",
    "sum_card = 0 # variable to store the sum of the cards drawn\n",
    "\n",
    "while playing: # while loop to keep drawing cards until the sum exceeds 21 or user stops\n",
    "    card = random.randint(2, 11) # draw a random card\n",
    "    # if card == 11 and sum > 21, change the value of the card to 1\n",
    "    if card == 11 and sum_card + card > 21:\n",
    "        card = 1\n",
    "    print(f\"The value of the card is: {card}\") # print the value of the card\n",
    "    \n",
    "    sum_card += card # add the value of the card to the sum of the cards\n",
    "    \n",
    "    if sum_card > 21:\n",
    "        print(\"You Lost!\")\n",
    "        playing = False # exit the while loop\n",
    "    else:\n",
    "        draw_again = input(\"Do you want to draw another card? (y/n)\") # ask the user if he wants to draw another card\n",
    "        \n",
    "        if draw_again.lower() == 'n':\n",
    "            print(f\"The total sum of cards drawn is: {sum_card}\")\n",
    "            playing = False # exit the while loop\n"
   ]
  },
  {
   "cell_type": "code",
   "execution_count": 78,
   "metadata": {},
   "outputs": [
    {
     "name": "stdout",
     "output_type": "stream",
     "text": [
      "Your cards are:  [10]\n",
      "Your cards are:  [10, 7]\n",
      "Your cards are:  [10, 7, 6]\n",
      "Your total is 23 , you lost.\n"
     ]
    }
   ],
   "source": [
    "# 3 - functional programming\n",
    "import random\n",
    "\n",
    "def get_card_value():\n",
    "    card = random.randint(2, 11)\n",
    "    return 1 if card == 11 and sum(cards)> 21 else card\n",
    "\n",
    "def play_game():\n",
    "    cards = [get_card_value()] \n",
    "    total = sum(cards)\n",
    "\n",
    "    print('Your cards are: ', cards)\n",
    "\n",
    "    while total < 21:\n",
    "        try:\n",
    "            move = input('Draw another card? (y/n): ')\n",
    "            if move.lower() == 'y':\n",
    "                new_card = get_card_value()\n",
    "                cards.append(new_card)\n",
    "                total += new_card\n",
    "                print('Your cards are: ', cards)\n",
    "            else:\n",
    "                break\n",
    "        except:\n",
    "            print('Please enter a valid number.')\n",
    "            continue\n",
    "\n",
    "    if total == 21:\n",
    "        print('Congratulations, you got 21!')\n",
    "    elif total > 21:\n",
    "        print('Your total is', total, ', you lost.')\n",
    "    else:\n",
    "        print('Your final total is', total)\n",
    "\n",
    "play_game()\n",
    "\n"
   ]
  },
  {
   "cell_type": "code",
   "execution_count": null,
   "metadata": {},
   "outputs": [],
   "source": []
  }
 ],
 "metadata": {
  "kernelspec": {
   "display_name": "Python 3",
   "language": "python",
   "name": "python3"
  },
  "language_info": {
   "codemirror_mode": {
    "name": "ipython",
    "version": 3
   },
   "file_extension": ".py",
   "mimetype": "text/x-python",
   "name": "python",
   "nbconvert_exporter": "python",
   "pygments_lexer": "ipython3",
   "version": "3.8.5"
  },
  "orig_nbformat": 4
 },
 "nbformat": 4,
 "nbformat_minor": 2
}
