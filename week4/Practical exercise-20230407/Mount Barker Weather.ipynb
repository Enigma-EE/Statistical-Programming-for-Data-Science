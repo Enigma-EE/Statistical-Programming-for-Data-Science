{
 "cells": [
  {
   "cell_type": "markdown",
   "id": "5acd09fd",
   "metadata": {},
   "source": [
    "# Analysis of Mount Barker Weather\n",
    "\n",
    "Data provided by: Menne, Matthew J., Imke Durre, Bryant Korzeniewski, Shelley McNeal, Kristy Thomas, Xungang Yin, Steven Anthony, Ron Ray, Russell S. Vose, Byron E.Gleason, and Tamara G. Houston (2012): Global Historical Climatology Network - \n",
    "Daily (GHCN-Daily), Version 3. NOAA National Climatic Data Center. doi:10.7289/V5D21VHZ 2015.\n",
    "\n",
    "Website: http://www.ncdc.noaa.gov/cdo-web/datasets/GHCND/locations/CITY:AS000001/detail\n",
    "\n",
    "Included variables:\n",
    "* DATE - date of recording in format year-month-date\n",
    "* PRCP - Precipitation (mm)\n",
    "* TMAX - Maximum temperature (degrees C). \n",
    "* TMIN - Minimum temperature (degrees C)\n",
    "* STATION and NAME - weather station information\n",
    "\n",
    "Your task is to load data stored in the file `MountBarkerWeather.csv` and make sense of the data. For example, get descriptive statistics for temperatures and/or precipitation overall; compare the weather for different time periods; try to answer the question if there is a real climate change in South Australia. \n",
    "\n",
    "Also, use Python and Numpy to get a better understanding of the data itself: how long is the history of observations of precipitation and temperature (they are not the same); how many days covered, how many days missing.\n",
    "\n",
    "It is a pain to use Numpy only for this analysis. Next week you will learn other tools to combine with Numpy. This is an exercise to test your problem solving and to learn more about vectorisation. "
   ]
  },
  {
   "cell_type": "code",
   "execution_count": 5,
   "id": "3fd8daa7",
   "metadata": {},
   "outputs": [],
   "source": [
    "import numpy as np\n",
    "import pandas as pd\n",
    "import matplotlib.pyplot as plt\n",
    "import seaborn as sns\n",
    "%matplotlib inline\n"
   ]
  },
  {
   "cell_type": "code",
   "execution_count": 6,
   "id": "aed3cf71",
   "metadata": {},
   "outputs": [],
   "source": [
    "# Read in the data\n",
    "df = pd.read_csv('MountBarkerWeather.csv')"
   ]
  },
  {
   "cell_type": "code",
   "execution_count": 9,
   "id": "b8c4f634",
   "metadata": {},
   "outputs": [
    {
     "data": {
      "text/html": [
       "<div>\n",
       "<style scoped>\n",
       "    .dataframe tbody tr th:only-of-type {\n",
       "        vertical-align: middle;\n",
       "    }\n",
       "\n",
       "    .dataframe tbody tr th {\n",
       "        vertical-align: top;\n",
       "    }\n",
       "\n",
       "    .dataframe thead th {\n",
       "        text-align: right;\n",
       "    }\n",
       "</style>\n",
       "<table border=\"1\" class=\"dataframe\">\n",
       "  <thead>\n",
       "    <tr style=\"text-align: right;\">\n",
       "      <th></th>\n",
       "      <th>STATION</th>\n",
       "      <th>NAME</th>\n",
       "      <th>DATE</th>\n",
       "      <th>PRCP</th>\n",
       "      <th>TMAX</th>\n",
       "      <th>TMIN</th>\n",
       "    </tr>\n",
       "  </thead>\n",
       "  <tbody>\n",
       "    <tr>\n",
       "      <th>0</th>\n",
       "      <td>ASN00023733</td>\n",
       "      <td>MOUNT BARKER, AS</td>\n",
       "      <td>1870-02-01</td>\n",
       "      <td>0.0</td>\n",
       "      <td>NaN</td>\n",
       "      <td>NaN</td>\n",
       "    </tr>\n",
       "    <tr>\n",
       "      <th>1</th>\n",
       "      <td>ASN00023733</td>\n",
       "      <td>MOUNT BARKER, AS</td>\n",
       "      <td>1870-02-02</td>\n",
       "      <td>0.0</td>\n",
       "      <td>NaN</td>\n",
       "      <td>NaN</td>\n",
       "    </tr>\n",
       "    <tr>\n",
       "      <th>2</th>\n",
       "      <td>ASN00023733</td>\n",
       "      <td>MOUNT BARKER, AS</td>\n",
       "      <td>1870-02-03</td>\n",
       "      <td>0.0</td>\n",
       "      <td>NaN</td>\n",
       "      <td>NaN</td>\n",
       "    </tr>\n",
       "    <tr>\n",
       "      <th>3</th>\n",
       "      <td>ASN00023733</td>\n",
       "      <td>MOUNT BARKER, AS</td>\n",
       "      <td>1870-02-04</td>\n",
       "      <td>0.0</td>\n",
       "      <td>NaN</td>\n",
       "      <td>NaN</td>\n",
       "    </tr>\n",
       "    <tr>\n",
       "      <th>4</th>\n",
       "      <td>ASN00023733</td>\n",
       "      <td>MOUNT BARKER, AS</td>\n",
       "      <td>1870-02-05</td>\n",
       "      <td>0.0</td>\n",
       "      <td>NaN</td>\n",
       "      <td>NaN</td>\n",
       "    </tr>\n",
       "  </tbody>\n",
       "</table>\n",
       "</div>"
      ],
      "text/plain": [
       "       STATION              NAME        DATE  PRCP  TMAX  TMIN\n",
       "0  ASN00023733  MOUNT BARKER, AS  1870-02-01   0.0   NaN   NaN\n",
       "1  ASN00023733  MOUNT BARKER, AS  1870-02-02   0.0   NaN   NaN\n",
       "2  ASN00023733  MOUNT BARKER, AS  1870-02-03   0.0   NaN   NaN\n",
       "3  ASN00023733  MOUNT BARKER, AS  1870-02-04   0.0   NaN   NaN\n",
       "4  ASN00023733  MOUNT BARKER, AS  1870-02-05   0.0   NaN   NaN"
      ]
     },
     "execution_count": 9,
     "metadata": {},
     "output_type": "execute_result"
    }
   ],
   "source": [
    "# Check the data\n",
    "df.head()\n"
   ]
  },
  {
   "cell_type": "code",
   "execution_count": 12,
   "id": "b3c8f82a",
   "metadata": {},
   "outputs": [
    {
     "name": "stdout",
     "output_type": "stream",
     "text": [
      "44.5\n",
      "-5.6\n",
      "129.8\n"
     ]
    }
   ],
   "source": [
    "# find the maximum temperature\n",
    "print(df['TMAX'].max())\n",
    "# find the minimum temperature\n",
    "print(df['TMIN'].min())\n",
    "# find the maximum rainfall\n",
    "print(df['PRCP'].max())"
   ]
  },
  {
   "cell_type": "code",
   "execution_count": 13,
   "id": "b621aefd",
   "metadata": {},
   "outputs": [
    {
     "name": "stdout",
     "output_type": "stream",
     "text": [
      "307\n"
     ]
    }
   ],
   "source": [
    "# count all null values in PRCP\n",
    "print(df['PRCP'].isnull().sum())"
   ]
  },
  {
   "cell_type": "code",
   "execution_count": 19,
   "id": "d186b758",
   "metadata": {},
   "outputs": [
    {
     "data": {
      "text/html": [
       "<div>\n",
       "<style scoped>\n",
       "    .dataframe tbody tr th:only-of-type {\n",
       "        vertical-align: middle;\n",
       "    }\n",
       "\n",
       "    .dataframe tbody tr th {\n",
       "        vertical-align: top;\n",
       "    }\n",
       "\n",
       "    .dataframe thead th {\n",
       "        text-align: right;\n",
       "    }\n",
       "</style>\n",
       "<table border=\"1\" class=\"dataframe\">\n",
       "  <thead>\n",
       "    <tr style=\"text-align: right;\">\n",
       "      <th></th>\n",
       "      <th>PRCP</th>\n",
       "      <th>TMAX</th>\n",
       "      <th>TMIN</th>\n",
       "    </tr>\n",
       "  </thead>\n",
       "  <tbody>\n",
       "    <tr>\n",
       "      <th>count</th>\n",
       "      <td>50313.00</td>\n",
       "      <td>23635.00</td>\n",
       "      <td>23646.00</td>\n",
       "    </tr>\n",
       "    <tr>\n",
       "      <th>mean</th>\n",
       "      <td>2.06</td>\n",
       "      <td>20.24</td>\n",
       "      <td>8.40</td>\n",
       "    </tr>\n",
       "    <tr>\n",
       "      <th>std</th>\n",
       "      <td>5.37</td>\n",
       "      <td>6.85</td>\n",
       "      <td>4.37</td>\n",
       "    </tr>\n",
       "    <tr>\n",
       "      <th>min</th>\n",
       "      <td>0.00</td>\n",
       "      <td>6.70</td>\n",
       "      <td>-5.60</td>\n",
       "    </tr>\n",
       "    <tr>\n",
       "      <th>25%</th>\n",
       "      <td>0.00</td>\n",
       "      <td>14.70</td>\n",
       "      <td>5.50</td>\n",
       "    </tr>\n",
       "    <tr>\n",
       "      <th>50%</th>\n",
       "      <td>0.00</td>\n",
       "      <td>19.00</td>\n",
       "      <td>8.30</td>\n",
       "    </tr>\n",
       "    <tr>\n",
       "      <th>75%</th>\n",
       "      <td>1.30</td>\n",
       "      <td>24.50</td>\n",
       "      <td>11.10</td>\n",
       "    </tr>\n",
       "    <tr>\n",
       "      <th>max</th>\n",
       "      <td>129.80</td>\n",
       "      <td>44.50</td>\n",
       "      <td>28.60</td>\n",
       "    </tr>\n",
       "  </tbody>\n",
       "</table>\n",
       "</div>"
      ],
      "text/plain": [
       "           PRCP      TMAX      TMIN\n",
       "count  50313.00  23635.00  23646.00\n",
       "mean       2.06     20.24      8.40\n",
       "std        5.37      6.85      4.37\n",
       "min        0.00      6.70     -5.60\n",
       "25%        0.00     14.70      5.50\n",
       "50%        0.00     19.00      8.30\n",
       "75%        1.30     24.50     11.10\n",
       "max      129.80     44.50     28.60"
      ]
     },
     "execution_count": 19,
     "metadata": {},
     "output_type": "execute_result"
    }
   ],
   "source": [
    "# describe the data rounded to 2 decimal places\n",
    "df.describe().round(2)"
   ]
  },
  {
   "cell_type": "code",
   "execution_count": 18,
   "id": "d5988bd9",
   "metadata": {},
   "outputs": [
    {
     "name": "stdout",
     "output_type": "stream",
     "text": [
      "<class 'pandas.core.frame.DataFrame'>\n",
      "RangeIndex: 50620 entries, 0 to 50619\n",
      "Data columns (total 6 columns):\n",
      " #   Column   Non-Null Count  Dtype  \n",
      "---  ------   --------------  -----  \n",
      " 0   STATION  50620 non-null  object \n",
      " 1   NAME     50620 non-null  object \n",
      " 2   DATE     50620 non-null  object \n",
      " 3   PRCP     50313 non-null  float64\n",
      " 4   TMAX     23635 non-null  float64\n",
      " 5   TMIN     23646 non-null  float64\n",
      "dtypes: float64(3), object(3)\n",
      "memory usage: 2.3+ MB\n"
     ]
    }
   ],
   "source": [
    "# check the data types\n",
    "df.info() # check the data types"
   ]
  },
  {
   "cell_type": "code",
   "execution_count": 20,
   "id": "9346903c",
   "metadata": {},
   "outputs": [
    {
     "data": {
      "text/plain": [
       "<AxesSubplot: ylabel='Frequency'>"
      ]
     },
     "execution_count": 20,
     "metadata": {},
     "output_type": "execute_result"
    },
    {
     "data": {
      "image/png": "[encoded data removed]",
      "text/plain": [
       "<Figure size 1000x500 with 1 Axes>"
      ]
     },
     "metadata": {},
     "output_type": "display_data"
    }
   ],
   "source": [
    "# plot the histogram of the maximum temperature\n",
    "df['TMAX'].plot(kind='hist', bins=20, figsize=(10,5))"
   ]
  },
  {
   "cell_type": "code",
   "execution_count": 21,
   "id": "e01ba86e",
   "metadata": {},
   "outputs": [],
   "source": [
    "# DATE to datetime\n",
    "df['DATE'] = pd.to_datetime(df['DATE'])"
   ]
  },
  {
   "cell_type": "code",
   "execution_count": 22,
   "id": "afc9fec1",
   "metadata": {},
   "outputs": [
    {
     "name": "stdout",
     "output_type": "stream",
     "text": [
      "<class 'pandas.core.frame.DataFrame'>\n",
      "RangeIndex: 50620 entries, 0 to 50619\n",
      "Data columns (total 6 columns):\n",
      " #   Column   Non-Null Count  Dtype         \n",
      "---  ------   --------------  -----         \n",
      " 0   STATION  50620 non-null  object        \n",
      " 1   NAME     50620 non-null  object        \n",
      " 2   DATE     50620 non-null  datetime64[ns]\n",
      " 3   PRCP     50313 non-null  float64       \n",
      " 4   TMAX     23635 non-null  float64       \n",
      " 5   TMIN     23646 non-null  float64       \n",
      "dtypes: datetime64[ns](1), float64(3), object(2)\n",
      "memory usage: 2.3+ MB\n"
     ]
    }
   ],
   "source": [
    "df.info()"
   ]
  },
  {
   "cell_type": "code",
   "execution_count": 23,
   "id": "983e7f6d",
   "metadata": {},
   "outputs": [
    {
     "name": "stdout",
     "output_type": "stream",
     "text": [
      "1870-02-01 00:00:00\n",
      "2023-02-01 00:00:00\n"
     ]
    }
   ],
   "source": [
    "# check the date range\n",
    "print(df['DATE'].min())\n",
    "print(df['DATE'].max())"
   ]
  },
  {
   "cell_type": "code",
   "execution_count": null,
   "id": "a725506a",
   "metadata": {},
   "outputs": [],
   "source": []
  }
 ],
 "metadata": {
  "kernelspec": {
   "display_name": "Python 3 (ipykernel)",
   "language": "python",
   "name": "python3"
  },
  "language_info": {
   "codemirror_mode": {
    "name": "ipython",
    "version": 3
   },
   "file_extension": ".py",
   "mimetype": "text/x-python",
   "name": "python",
   "nbconvert_exporter": "python",
   "pygments_lexer": "ipython3",
   "version": "3.8.5"
  }
 },
 "nbformat": 4,
 "nbformat_minor": 5
}
