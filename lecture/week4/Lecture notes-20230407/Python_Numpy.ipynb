{
 "cells": [
  {
   "cell_type": "markdown",
   "id": "37f61320",
   "metadata": {},
   "source": [
    "# Python for Data Analysis\n",
    "\n",
    "The following three weeks we will use Jupyter Notebook environment. It is still the same Python and you could do the same job in Spyder or any other IDE. Jupyter Notebook is an extremely popular tool that allows to combine simple text, code and results of running this code, that is, numbers and graphs, in one document. \n",
    "\n",
    "Jupyter Notebook is very good for Python-related presentations and for sharing your code. You will find a lot of extremely good tutorials on Python shared as Jupyter Notebook documents. For example, tutorial on Python and Numpy -- https://cs231n.github.io/python-numpy-tutorial/, which is this week topic. You can run it online -- just click on the icon \"Open in Colab\" in the beginning of the tutorial.\n",
    "\n",
    "You can read more about Jupyter Notebook here: https://realpython.com/jupyter-notebook-introduction/. \"Rich content\" mentioned in that manual, or just text formatting, they follow rules of **Markdown** -- it is a special programming language for text formatting and presentation. It is very easy and quick to learn: https://www.markdownguide.org/basic-syntax/.\n",
    "\n",
    "This week we will talk about **Numpy**. Next week topic is **Pandas**. And week after that is **Seaborn** and data visualisation in general.\n",
    "\n",
    "## Jupyter notebook magic commands\n",
    "\n",
    "Jupyter Notebook (and Spyder too) uses not Python but iPython -- an enhanced version of Python that has some extra functionality that is not supported by \"true\" Python. This functionality is called *magic*. There are two types of *magic* supported by Jupyter Notebook: line magic and cell magic. Spyder supports only line magic as thee are no cells. Also, not all line magic command supported in Spyder or in a terminal window in more general sense.\n",
    "\n",
    "These magics are designed to facilitate common tasks and enable easier control over the jupyter notebook system. A line magic command is prefixed by percent symbol %. A cell magic command is prefixed by double percent symbol -- %%.\n",
    "\n",
    "A line magic command (%) takes as an argument the rest of the line. A cell magic command (%%) takes as an argument the rest of the line plus the all lines of code below (shift+enter signifying the end of the block), e.g.:"
   ]
  },
  {
   "cell_type": "code",
   "execution_count": 1,
   "id": "c50ab19f",
   "metadata": {},
   "outputs": [
    {
     "name": "stdout",
     "output_type": "stream",
     "text": [
      "94 µs ± 1.15 µs per loop (mean ± std. dev. of 7 runs, 10,000 loops each)\n"
     ]
    }
   ],
   "source": [
    "# line magic example\n",
    "import random\n",
    "\n",
    "# %timeit - check execution time for any Python statement\n",
    "%timeit x = [random.random() for i in range(1000)]"
   ]
  },
  {
   "cell_type": "code",
   "execution_count": 2,
   "id": "1836603c",
   "metadata": {},
   "outputs": [
    {
     "name": "stdout",
     "output_type": "stream",
     "text": [
      "145 µs ± 1.04 µs per loop (mean ± std. dev. of 7 runs, 10,000 loops each)\n"
     ]
    }
   ],
   "source": [
    "%%timeit x = []\n",
    "for i in range(1000):\n",
    "    x.append(random.random())\n",
    "\n",
    "# cell magic should always start from %% - no comments or even empty line is allowed"
   ]
  },
  {
   "cell_type": "markdown",
   "id": "7de3560d",
   "metadata": {},
   "source": [
    "In both cases the result is a execution time of one line statement or  the entire cell with multiple commands. You can see the full list of magic commands by typing `%lsmagic`. In fact, you can get the same list by typing just `lsmagic` -- without percent symbol, as (most probably) *automagic* is ON on your computer. However, I would advice to use percent symbol anyway to separate *magic* commands and normal Python commands -- this is a good programming style."
   ]
  },
  {
   "cell_type": "code",
   "execution_count": 3,
   "id": "b6536943",
   "metadata": {},
   "outputs": [
    {
     "data": {
      "application/json": {
       "cell": {
        "!": "OSMagics",
        "HTML": "Other",
        "SVG": "Other",
        "bash": "Other",
        "capture": "ExecutionMagics",
        "cmd": "Other",
        "debug": "ExecutionMagics",
        "file": "Other",
        "html": "DisplayMagics",
        "javascript": "DisplayMagics",
        "js": "DisplayMagics",
        "latex": "DisplayMagics",
        "markdown": "DisplayMagics",
        "perl": "Other",
        "prun": "ExecutionMagics",
        "pypy": "Other",
        "python": "Other",
        "python2": "Other",
        "python3": "Other",
        "ruby": "Other",
        "script": "ScriptMagics",
        "sh": "Other",
        "svg": "DisplayMagics",
        "sx": "OSMagics",
        "system": "OSMagics",
        "time": "ExecutionMagics",
        "timeit": "ExecutionMagics",
        "writefile": "OSMagics"
       },
       "line": {
        "alias": "OSMagics",
        "alias_magic": "BasicMagics",
        "autoawait": "AsyncMagics",
        "autocall": "AutoMagics",
        "automagic": "AutoMagics",
        "autosave": "KernelMagics",
        "bookmark": "OSMagics",
        "cd": "OSMagics",
        "clear": "KernelMagics",
        "cls": "KernelMagics",
        "colors": "BasicMagics",
        "conda": "PackagingMagics",
        "config": "ConfigMagics",
        "connect_info": "KernelMagics",
        "copy": "Other",
        "ddir": "Other",
        "debug": "ExecutionMagics",
        "dhist": "OSMagics",
        "dirs": "OSMagics",
        "doctest_mode": "BasicMagics",
        "echo": "Other",
        "ed": "Other",
        "edit": "KernelMagics",
        "env": "OSMagics",
        "gui": "BasicMagics",
        "hist": "Other",
        "history": "HistoryMagics",
        "killbgscripts": "ScriptMagics",
        "ldir": "Other",
        "less": "KernelMagics",
        "load": "CodeMagics",
        "load_ext": "ExtensionMagics",
        "loadpy": "CodeMagics",
        "logoff": "LoggingMagics",
        "logon": "LoggingMagics",
        "logstart": "LoggingMagics",
        "logstate": "LoggingMagics",
        "logstop": "LoggingMagics",
        "ls": "Other",
        "lsmagic": "BasicMagics",
        "macro": "ExecutionMagics",
        "magic": "BasicMagics",
        "matplotlib": "PylabMagics",
        "mkdir": "Other",
        "more": "KernelMagics",
        "notebook": "BasicMagics",
        "page": "BasicMagics",
        "pastebin": "CodeMagics",
        "pdb": "ExecutionMagics",
        "pdef": "NamespaceMagics",
        "pdoc": "NamespaceMagics",
        "pfile": "NamespaceMagics",
        "pinfo": "NamespaceMagics",
        "pinfo2": "NamespaceMagics",
        "pip": "PackagingMagics",
        "popd": "OSMagics",
        "pprint": "BasicMagics",
        "precision": "BasicMagics",
        "prun": "ExecutionMagics",
        "psearch": "NamespaceMagics",
        "psource": "NamespaceMagics",
        "pushd": "OSMagics",
        "pwd": "OSMagics",
        "pycat": "OSMagics",
        "pylab": "PylabMagics",
        "qtconsole": "KernelMagics",
        "quickref": "BasicMagics",
        "recall": "HistoryMagics",
        "rehashx": "OSMagics",
        "reload_ext": "ExtensionMagics",
        "ren": "Other",
        "rep": "Other",
        "rerun": "HistoryMagics",
        "reset": "NamespaceMagics",
        "reset_selective": "NamespaceMagics",
        "rmdir": "Other",
        "run": "ExecutionMagics",
        "save": "CodeMagics",
        "sc": "OSMagics",
        "set_env": "OSMagics",
        "store": "StoreMagics",
        "sx": "OSMagics",
        "system": "OSMagics",
        "tb": "ExecutionMagics",
        "time": "ExecutionMagics",
        "timeit": "ExecutionMagics",
        "unalias": "OSMagics",
        "unload_ext": "ExtensionMagics",
        "who": "NamespaceMagics",
        "who_ls": "NamespaceMagics",
        "whos": "NamespaceMagics",
        "xdel": "NamespaceMagics",
        "xmode": "BasicMagics"
       }
      },
      "text/plain": [
       "Available line magics:\n",
       "%alias  %alias_magic  %autoawait  %autocall  %automagic  %autosave  %bookmark  %cd  %clear  %cls  %colors  %conda  %config  %connect_info  %copy  %ddir  %debug  %dhist  %dirs  %doctest_mode  %echo  %ed  %edit  %env  %gui  %hist  %history  %killbgscripts  %ldir  %less  %load  %load_ext  %loadpy  %logoff  %logon  %logstart  %logstate  %logstop  %ls  %lsmagic  %macro  %magic  %matplotlib  %mkdir  %more  %notebook  %page  %pastebin  %pdb  %pdef  %pdoc  %pfile  %pinfo  %pinfo2  %pip  %popd  %pprint  %precision  %prun  %psearch  %psource  %pushd  %pwd  %pycat  %pylab  %qtconsole  %quickref  %recall  %rehashx  %reload_ext  %ren  %rep  %rerun  %reset  %reset_selective  %rmdir  %run  %save  %sc  %set_env  %store  %sx  %system  %tb  %time  %timeit  %unalias  %unload_ext  %who  %who_ls  %whos  %xdel  %xmode\n",
       "\n",
       "Available cell magics:\n",
       "%%!  %%HTML  %%SVG  %%bash  %%capture  %%cmd  %%debug  %%file  %%html  %%javascript  %%js  %%latex  %%markdown  %%perl  %%prun  %%pypy  %%python  %%python2  %%python3  %%ruby  %%script  %%sh  %%svg  %%sx  %%system  %%time  %%timeit  %%writefile\n",
       "\n",
       "Automagic is ON, % prefix IS NOT needed for line magics."
      ]
     },
     "execution_count": 3,
     "metadata": {},
     "output_type": "execute_result"
    }
   ],
   "source": [
    "%lsmagic"
   ]
  },
  {
   "cell_type": "code",
   "execution_count": 4,
   "id": "d07bb91a",
   "metadata": {},
   "outputs": [
    {
     "name": "stdout",
     "output_type": "stream",
     "text": [
      "Hello World!\n"
     ]
    }
   ],
   "source": [
    "# another example of line magic\n",
    "%run hello_world.py"
   ]
  },
  {
   "cell_type": "markdown",
   "id": "6a8f6ac2",
   "metadata": {},
   "source": [
    "You can run any `.py` script (file should be in the same folder as your Jupyter Notebook document). \n",
    "\n",
    "The script is run in an empty namespace (with no imports or other variables defined) so that the behavior should be identical to\n",
    "running the program on the command line. All variables (imports, functions, and globals) defined in the file will\n",
    "then be accessible in the jupyter notebook notebook shell. So, it is good to use for loading some \"standard\" suit of packages and functions you tend to use in your every project.\n",
    "\n",
    "Can use `%run –i` to give a script access to variables already defined in the interactive Jupyter Notebook namespace."
   ]
  },
  {
   "cell_type": "markdown",
   "id": "0dfcf60b",
   "metadata": {},
   "source": [
    "# NumPy package\n",
    "\n",
    "Designed to efficiently manipulate large multi‐dimensional arrays of arbitrary records with small sacrifices for speed.\n",
    "It provides:\n",
    "\n",
    "* `ndarray` -- a fast and space-efficient multidimensional array providing vectorised arithmetic operations.\n",
    "* Standard mathematical functions for fast operations on entire arrays of data without having to write loops.\n",
    "* Tools for reading / writing array data to disk and working with memory-mapped files.\n",
    "* Basic Linear algebra, random number generation, Fourier transform capabilities, tools for integrating code written in C, C++, and Fortran.\n",
    "* Does not provide very much high-level data analytical functionality. \n",
    "\n",
    "We don't use NumPy that much for data analysis as there are other packages for that. However, the package `NumPy` is a foundation for other packages to use its functionality for advanced analytics. For example, for machine learning and artificial intelligence: text analysis, computer vision, voice recognition -- all of them use \"basic\" algebra over NumPy arrays. So, understanding of how NumPy works is very important.\n",
    "\n",
    "## NumPy array\n",
    "\n",
    "NumPy array is an N-dimensional array object, or `ndarray`. It is fast, flexible container for large data sets in Python. Mathematical operations on whole blocks of data use similar syntax to the equivalent operations between scalar elements."
   ]
  },
  {
   "cell_type": "code",
   "execution_count": 5,
   "id": "1a87c765",
   "metadata": {},
   "outputs": [
    {
     "data": {
      "text/plain": [
       "array([[  5, -10,   2],\n",
       "       [  4,   3,   9]])"
      ]
     },
     "execution_count": 5,
     "metadata": {},
     "output_type": "execute_result"
    }
   ],
   "source": [
    "# import numpy package and create a nickname for it\n",
    "import numpy as np\n",
    "\n",
    "# create a numpy array\n",
    "data = np.array([[5,-10,2], [4, 3, 9]])\n",
    "\n",
    "# check the result\n",
    "data"
   ]
  },
  {
   "cell_type": "code",
   "execution_count": 6,
   "id": "3fc704fe",
   "metadata": {},
   "outputs": [
    {
     "data": {
      "text/plain": [
       "numpy.ndarray"
      ]
     },
     "execution_count": 6,
     "metadata": {},
     "output_type": "execute_result"
    }
   ],
   "source": [
    "# check data type\n",
    "type(data)"
   ]
  },
  {
   "cell_type": "code",
   "execution_count": 7,
   "id": "28042c42",
   "metadata": {},
   "outputs": [
    {
     "data": {
      "text/plain": [
       "array([[  50, -100,   20],\n",
       "       [  40,   30,   90]])"
      ]
     },
     "execution_count": 7,
     "metadata": {},
     "output_type": "execute_result"
    }
   ],
   "source": [
    "# try mathematical operation over the numpy array\n",
    "data * 10"
   ]
  },
  {
   "cell_type": "markdown",
   "id": "f44b7d2a",
   "metadata": {},
   "source": [
    "All numbers in the array were multiplied by 10 at once -- no need for using loops. This is called **vectorisation** -- you process all values at the same time. It makes huge computational saving! "
   ]
  },
  {
   "cell_type": "code",
   "execution_count": 8,
   "id": "971811d9",
   "metadata": {},
   "outputs": [
    {
     "name": "stdout",
     "output_type": "stream",
     "text": [
      "302 µs ± 1.74 µs per loop (mean ± std. dev. of 7 runs, 1,000 loops each)\n",
      "1.3 µs ± 16.2 ns per loop (mean ± std. dev. of 7 runs, 1,000,000 loops each)\n"
     ]
    }
   ],
   "source": [
    "# create a large sequence of random numbers\n",
    "x = np.random.random(1000)\n",
    "\n",
    "# take every element in power 2 using for-loop\n",
    "%timeit res = [i**2 for i in x]\n",
    "\n",
    "# take every element in power 2 using vectorisation\n",
    "%timeit res = x**2"
   ]
  },
  {
   "cell_type": "markdown",
   "id": "9ddd64dd",
   "metadata": {},
   "source": [
    "As you can see, vectorisation is more than 150 times quicker than the for-loop. From now on, your programming motto should be: **avoide loops -- if it is possible to use vectorisation, you should use vectorisation**."
   ]
  },
  {
   "cell_type": "markdown",
   "id": "a1b1d003",
   "metadata": {},
   "source": [
    "## The most important rule of NumPy arrays\n",
    "\n",
    "A numpy array is a generic multidimensional container for **homogeneous** data; that is, all elements must be of the same type. This is the only way to guarantee *vectorisation*. If you do multiplication for the array, you need to be confident that all elements of that array are numerical and of the same type -- integer or float or boolean."
   ]
  },
  {
   "cell_type": "code",
   "execution_count": 9,
   "id": "c6f11996",
   "metadata": {},
   "outputs": [
    {
     "data": {
      "text/plain": [
       "array([1.1, 2.2, 3.3, 4. , 5. ])"
      ]
     },
     "execution_count": 9,
     "metadata": {},
     "output_type": "execute_result"
    }
   ],
   "source": [
    "# I try to create a numpy array from the list of floats and integers\n",
    "myarr = np.array([1.1, 2.2, 3.3, 4, 5])\n",
    "\n",
    "# check the result - all numbers are floats\n",
    "myarr"
   ]
  },
  {
   "cell_type": "code",
   "execution_count": 10,
   "id": "690eff90",
   "metadata": {},
   "outputs": [
    {
     "data": {
      "text/plain": [
       "array(['a', 'b', '3.3', '4', '5'], dtype='<U32')"
      ]
     },
     "execution_count": 10,
     "metadata": {},
     "output_type": "execute_result"
    }
   ],
   "source": [
    "# I try to create a numpy array from the list of strings and numbers\n",
    "myarr = np.array([\"a\", \"b\", 3.3, 4, 5])\n",
    "\n",
    "# check the result - all elements are strings\n",
    "myarr"
   ]
  },
  {
   "cell_type": "markdown",
   "id": "eb535e0b",
   "metadata": {},
   "source": [
    "It is impossible to mix different data types in an array. Automatic conversion always go towards a way that guarantees not losing any information. \n",
    "\n",
    "If you convert float to integer, then you can lose an information after decimal point. But if you convert integer to float, you don't lose anything. So, the mixture of floats and integers was converted to floats.\n",
    "\n",
    "It is impossible (in general) to convert a string in to a number, hence a mix of strings and numbers was converted to strings."
   ]
  },
  {
   "cell_type": "markdown",
   "id": "4927f4f0",
   "metadata": {},
   "source": [
    "## Properties of numpy arrays\n",
    "\n",
    "Every array has properties: shape, type, size, number of dimensions. See examples below:"
   ]
  },
  {
   "cell_type": "code",
   "execution_count": 11,
   "id": "89e60c49",
   "metadata": {},
   "outputs": [
    {
     "data": {
      "text/plain": [
       "dtype('int32')"
      ]
     },
     "execution_count": 11,
     "metadata": {},
     "output_type": "execute_result"
    }
   ],
   "source": [
    "# create a numpy array\n",
    "data = np.array([[5,-10,2], [4, 3, 9]])\n",
    "\n",
    "# check data type\n",
    "data.dtype"
   ]
  },
  {
   "cell_type": "code",
   "execution_count": 12,
   "id": "85a39e5b",
   "metadata": {},
   "outputs": [
    {
     "data": {
      "text/plain": [
       "6"
      ]
     },
     "execution_count": 12,
     "metadata": {},
     "output_type": "execute_result"
    }
   ],
   "source": [
    "# check size - total number of elements in the array\n",
    "data.size"
   ]
  },
  {
   "cell_type": "code",
   "execution_count": 13,
   "id": "4d120f37",
   "metadata": {},
   "outputs": [
    {
     "data": {
      "text/plain": [
       "2"
      ]
     },
     "execution_count": 13,
     "metadata": {},
     "output_type": "execute_result"
    }
   ],
   "source": [
    "# check the number of dimensions\n",
    "data.ndim"
   ]
  },
  {
   "cell_type": "code",
   "execution_count": 14,
   "id": "d9c147a2",
   "metadata": {},
   "outputs": [
    {
     "data": {
      "text/plain": [
       "(2, 3)"
      ]
     },
     "execution_count": 14,
     "metadata": {},
     "output_type": "execute_result"
    }
   ],
   "source": [
    "# check shape of the array\n",
    "data.shape"
   ]
  },
  {
   "cell_type": "markdown",
   "id": "61a1adcd",
   "metadata": {},
   "source": [
    "Array properties look like methods of the object `ndarray`. You will see them in the list when you run `dir(data)`. However, they are not functions, they don't do anything but report an information about the array. They are not functions but properties, so they don't use parenthesis at the end.\n",
    "\n",
    "Try to run a function `dir()` for a numpy array and see a long list of methods and properties. Also, numpy itself is an object with advanced functionality -- try `dir(np)` and you get even longer list. It is impossible to memorise all of them and there is no need for that. So, I don't include this list here. You just need to be able to find the right functionality when you need it.\n",
    "\n",
    "https://numpy.org/doc/stable/user/index.html - user guide for NumPy package."
   ]
  },
  {
   "cell_type": "markdown",
   "id": "d2b17df6",
   "metadata": {},
   "source": [
    "## Creating NumPy array\n",
    "\n",
    "There are many ways to create a numpy array. First is to use function `array()` from `numpy` package. It takes any sequence-like object and produces an array."
   ]
  },
  {
   "cell_type": "code",
   "execution_count": 15,
   "id": "83e9e634",
   "metadata": {},
   "outputs": [
    {
     "data": {
      "text/plain": [
       "array([1, 2, 3, 4])"
      ]
     },
     "execution_count": 15,
     "metadata": {},
     "output_type": "execute_result"
    }
   ],
   "source": [
    "# from the list\n",
    "np.array([1, 2, 3, 4])"
   ]
  },
  {
   "cell_type": "code",
   "execution_count": 16,
   "id": "d4441784",
   "metadata": {},
   "outputs": [
    {
     "data": {
      "text/plain": [
       "array([1, 2, 3, 4])"
      ]
     },
     "execution_count": 16,
     "metadata": {},
     "output_type": "execute_result"
    }
   ],
   "source": [
    "# from the tuple\n",
    "np.array((1, 2, 3, 4))"
   ]
  },
  {
   "cell_type": "code",
   "execution_count": 17,
   "id": "05bb45bb",
   "metadata": {},
   "outputs": [
    {
     "data": {
      "text/plain": [
       "array([[1, 2, 3, 4],\n",
       "       [5, 6, 7, 8]])"
      ]
     },
     "execution_count": 17,
     "metadata": {},
     "output_type": "execute_result"
    }
   ],
   "source": [
    "# from list of lists - each list should be of the same size\n",
    "np.array([[1, 2, 3, 4], [5, 6, 7, 8]])"
   ]
  },
  {
   "cell_type": "code",
   "execution_count": 18,
   "id": "2079a414",
   "metadata": {},
   "outputs": [
    {
     "data": {
      "text/plain": [
       "array([0, 1, 2, 3, 4, 5, 6, 7, 8, 9])"
      ]
     },
     "execution_count": 18,
     "metadata": {},
     "output_type": "execute_result"
    }
   ],
   "source": [
    "# from range\n",
    "np.array(range(10))"
   ]
  },
  {
   "cell_type": "markdown",
   "id": "e284d081",
   "metadata": {},
   "source": [
    "There are many specialised functions that can create a numpy array"
   ]
  },
  {
   "cell_type": "code",
   "execution_count": 19,
   "id": "8817e5da",
   "metadata": {},
   "outputs": [
    {
     "data": {
      "text/plain": [
       "array([0., 0., 0., 0., 0., 0., 0., 0., 0., 0.])"
      ]
     },
     "execution_count": 19,
     "metadata": {},
     "output_type": "execute_result"
    }
   ],
   "source": [
    "# array of size 10 full of zeros\n",
    "np.zeros(10)"
   ]
  },
  {
   "cell_type": "code",
   "execution_count": 20,
   "id": "311b75ce",
   "metadata": {},
   "outputs": [
    {
     "data": {
      "text/plain": [
       "array([[0., 0., 0., 0., 0., 0.],\n",
       "       [0., 0., 0., 0., 0., 0.],\n",
       "       [0., 0., 0., 0., 0., 0.]])"
      ]
     },
     "execution_count": 20,
     "metadata": {},
     "output_type": "execute_result"
    }
   ],
   "source": [
    "# array with 3 rows and 6 columns - all full of zeros\n",
    "np.zeros((3, 6))     # provide a tuple for required shape"
   ]
  },
  {
   "cell_type": "code",
   "execution_count": 21,
   "id": "acf674d6",
   "metadata": {},
   "outputs": [
    {
     "data": {
      "text/plain": [
       "array([[1., 1., 1., 1., 1., 1.],\n",
       "       [1., 1., 1., 1., 1., 1.],\n",
       "       [1., 1., 1., 1., 1., 1.]])"
      ]
     },
     "execution_count": 21,
     "metadata": {},
     "output_type": "execute_result"
    }
   ],
   "source": [
    "# array with 3 rows and 6 columns - all full of ones\n",
    "np.ones((3, 6))     # provide a tuple for required shape"
   ]
  },
  {
   "cell_type": "code",
   "execution_count": 22,
   "id": "a3ccb4ca",
   "metadata": {},
   "outputs": [
    {
     "data": {
      "text/plain": [
       "array([[0., 0., 0.],\n",
       "       [0., 0., 0.]])"
      ]
     },
     "execution_count": 22,
     "metadata": {},
     "output_type": "execute_result"
    }
   ],
   "source": [
    "# \"empty\" array of given size. values are very close to zero however they are not zero\n",
    "# this type of array is quicker to create than np.zeros()\n",
    "np.empty((2,3))"
   ]
  },
  {
   "cell_type": "code",
   "execution_count": 23,
   "id": "7738fd91",
   "metadata": {},
   "outputs": [
    {
     "data": {
      "text/plain": [
       "array([0, 1, 2, 3, 4, 5, 6, 7, 8, 9])"
      ]
     },
     "execution_count": 23,
     "metadata": {},
     "output_type": "execute_result"
    }
   ],
   "source": [
    "# an array with a range of values - similar to function range()\n",
    "np.arange(10)"
   ]
  },
  {
   "cell_type": "code",
   "execution_count": 24,
   "id": "3c7c4653",
   "metadata": {},
   "outputs": [
    {
     "data": {
      "text/plain": [
       "array([10, 12, 14, 16, 18, 20, 22, 24, 26, 28])"
      ]
     },
     "execution_count": 24,
     "metadata": {},
     "output_type": "execute_result"
    }
   ],
   "source": [
    "# range starting at 10 and finishing one step before 30 with step 2\n",
    "np.arange(10, 30, 2)"
   ]
  },
  {
   "cell_type": "code",
   "execution_count": 25,
   "id": "7a67de35",
   "metadata": {},
   "outputs": [
    {
     "data": {
      "text/plain": [
       "array([[1., 1., 1., 1., 1., 1.],\n",
       "       [1., 1., 1., 1., 1., 1.]])"
      ]
     },
     "execution_count": 25,
     "metadata": {},
     "output_type": "execute_result"
    }
   ],
   "source": [
    "# create an array by copying its property\n",
    "a = np.zeros((2,6))   # given array\n",
    "np.ones_like(a)       # crete an array of the same size but full of ones"
   ]
  },
  {
   "cell_type": "markdown",
   "id": "c7fdbe86",
   "metadata": {},
   "source": [
    "There are special types of arrays which might be useful for the matrix algebra -- identity matrix. That is, a square array with 1 on the diagonal and 0 everywhere else."
   ]
  },
  {
   "cell_type": "code",
   "execution_count": 26,
   "id": "ba623759",
   "metadata": {},
   "outputs": [
    {
     "data": {
      "text/plain": [
       "array([[1., 0., 0.],\n",
       "       [0., 1., 0.],\n",
       "       [0., 0., 1.]])"
      ]
     },
     "execution_count": 26,
     "metadata": {},
     "output_type": "execute_result"
    }
   ],
   "source": [
    "np.eye(3)"
   ]
  },
  {
   "cell_type": "code",
   "execution_count": 27,
   "id": "d0b5f807",
   "metadata": {},
   "outputs": [
    {
     "data": {
      "text/plain": [
       "array([[1., 0., 0.],\n",
       "       [0., 1., 0.],\n",
       "       [0., 0., 1.]])"
      ]
     },
     "execution_count": 27,
     "metadata": {},
     "output_type": "execute_result"
    }
   ],
   "source": [
    "np.identity(3)"
   ]
  },
  {
   "cell_type": "markdown",
   "id": "8e311310",
   "metadata": {},
   "source": [
    "One more way to create an array is to use functions for random numbers generation and get an array full of random numbers from the desired distribution."
   ]
  },
  {
   "cell_type": "code",
   "execution_count": 28,
   "id": "cc31e635",
   "metadata": {},
   "outputs": [
    {
     "data": {
      "text/plain": [
       "array([[-0.58112472,  2.14358352,  0.52528555,  0.91477806,  0.05506357],\n",
       "       [ 1.00970321,  1.00695007,  1.54848062,  0.43921664,  0.81631858]])"
      ]
     },
     "execution_count": 28,
     "metadata": {},
     "output_type": "execute_result"
    }
   ],
   "source": [
    "# array with standard normal distribution values\n",
    "np.random.randn(2,5)  "
   ]
  },
  {
   "cell_type": "code",
   "execution_count": 29,
   "id": "d2c025a5",
   "metadata": {},
   "outputs": [
    {
     "data": {
      "text/plain": [
       "array([[ 4, 10, 10,  8,  7,  1,  1,  4,  7,  7],\n",
       "       [ 2,  2,  3,  8,  4,  1,  3,  7,  6,  6]])"
      ]
     },
     "execution_count": 29,
     "metadata": {},
     "output_type": "execute_result"
    }
   ],
   "source": [
    "# integer numbers from 1 to 10 (inclusive)\n",
    "np.random.randint(low = 1, high = 11, size = (2,10))"
   ]
  },
  {
   "cell_type": "markdown",
   "id": "a8e89542",
   "metadata": {},
   "source": [
    "## Convert data types\n",
    "\n",
    "When you create an array it gets its data type based on the nature of the data, and all values should be homogeneous. However, you can set your own data type during creating the array, or change it later. Setting or changing data type is called *typecasting*."
   ]
  },
  {
   "cell_type": "code",
   "execution_count": 30,
   "id": "0a8c6411",
   "metadata": {},
   "outputs": [
    {
     "data": {
      "text/plain": [
       "array([1, 2, 3, 4, 5])"
      ]
     },
     "execution_count": 30,
     "metadata": {},
     "output_type": "execute_result"
    }
   ],
   "source": [
    "# create an array - it should be float but we change that\n",
    "arr = np.array([1.1, 2.2, 3.3, 4, 5], dtype = int)\n",
    "arr"
   ]
  },
  {
   "cell_type": "code",
   "execution_count": 31,
   "id": "57805b6b",
   "metadata": {},
   "outputs": [
    {
     "data": {
      "text/plain": [
       "array([1., 2., 3., 4., 5.])"
      ]
     },
     "execution_count": 31,
     "metadata": {},
     "output_type": "execute_result"
    }
   ],
   "source": [
    "# change data type to float\n",
    "arr.astype(float)"
   ]
  },
  {
   "cell_type": "code",
   "execution_count": 32,
   "id": "adf92645",
   "metadata": {},
   "outputs": [
    {
     "data": {
      "text/plain": [
       "array(['1', '2', '3', '4', '5'], dtype='<U11')"
      ]
     },
     "execution_count": 32,
     "metadata": {},
     "output_type": "execute_result"
    }
   ],
   "source": [
    "# change data type to string - there are many different types of string, this is Unicode\n",
    "arr.astype(np.str_)"
   ]
  },
  {
   "cell_type": "markdown",
   "id": "45cebe66",
   "metadata": {},
   "source": [
    "## Indexing and Slicing of Arrays\n",
    "\n",
    "Indexing and slicing of arrays is very similar to those in lists. If an array is one-dimensional, then you provide one index. If an array is two-dimensional, then you need tow indexes -- first for rows and second for columns. If an array of higher dimensionality, then you need more indexes.\n",
    "\n",
    "As it is common in Python in general, indexing in NumPy starts from zero. The very first element have index zero, second element has index 1 and so on.\n",
    "\n",
    "### Integer indexing"
   ]
  },
  {
   "cell_type": "code",
   "execution_count": 33,
   "id": "15465264",
   "metadata": {},
   "outputs": [
    {
     "name": "stdout",
     "output_type": "stream",
     "text": [
      "[0 1 2 3 4 5 6 7 8 9]\n"
     ]
    },
    {
     "data": {
      "text/plain": [
       "5"
      ]
     },
     "execution_count": 33,
     "metadata": {},
     "output_type": "execute_result"
    }
   ],
   "source": [
    "# one-dimesional array\n",
    "arr = np.arange(10)\n",
    "print(arr)\n",
    "arr[5]    # get element with index 5 - sixth value from the array"
   ]
  },
  {
   "cell_type": "code",
   "execution_count": 34,
   "id": "6d5c4297",
   "metadata": {},
   "outputs": [
    {
     "name": "stdout",
     "output_type": "stream",
     "text": [
      "[[0 1 2 3 4]\n",
      " [5 6 7 8 9]]\n"
     ]
    },
    {
     "data": {
      "text/plain": [
       "8"
      ]
     },
     "execution_count": 34,
     "metadata": {},
     "output_type": "execute_result"
    }
   ],
   "source": [
    "# two-dimesional array\n",
    "arr = np.arange(10).reshape((2,5))\n",
    "print(arr)\n",
    "arr[1,3]   # second row, fourth column"
   ]
  },
  {
   "cell_type": "markdown",
   "id": "2a08aaef",
   "metadata": {},
   "source": [
    "Arrays are mutable. So, you can not just extract values but change them as well"
   ]
  },
  {
   "cell_type": "code",
   "execution_count": 35,
   "id": "14a77740",
   "metadata": {},
   "outputs": [
    {
     "name": "stdout",
     "output_type": "stream",
     "text": [
      "[[0 1 2 3 4]\n",
      " [5 6 7 8 9]]\n",
      "[[ 0  1  2  3  4]\n",
      " [ 5  6  7 99  9]]\n"
     ]
    }
   ],
   "source": [
    "# two-dimesional array\n",
    "arr = np.arange(10).reshape((2,5))\n",
    "print(arr)     # original array\n",
    "\n",
    "arr[1,3] = 99  # change value\n",
    "print(arr)     # updated array"
   ]
  },
  {
   "cell_type": "markdown",
   "id": "602d1774",
   "metadata": {},
   "source": [
    "As you can see, multidimensional array looks like a list of lists. The number of square brackets give you an indication about the number of dimensions in the array. So, it is possible to use a single index for the multidimensional array."
   ]
  },
  {
   "cell_type": "code",
   "execution_count": 36,
   "id": "f8ef33f4",
   "metadata": {},
   "outputs": [
    {
     "name": "stdout",
     "output_type": "stream",
     "text": [
      "[[ 0  1  2  3  4]\n",
      " [ 5  6  7 99  9]]\n"
     ]
    }
   ],
   "source": [
    "print(arr) # check our array"
   ]
  },
  {
   "cell_type": "code",
   "execution_count": 37,
   "id": "eed82986",
   "metadata": {},
   "outputs": [
    {
     "data": {
      "text/plain": [
       "array([ 5,  6,  7, 99,  9])"
      ]
     },
     "execution_count": 37,
     "metadata": {},
     "output_type": "execute_result"
    }
   ],
   "source": [
    "arr[1]     # get the second element, which is the second row"
   ]
  },
  {
   "cell_type": "markdown",
   "id": "6c10e9ee",
   "metadata": {},
   "source": [
    "In the example above, we take a two-dimensional array and use only one index (for a row) -- the result is a one-dimensional array. First index and single index -- are always for the row. If you want to extract a column, you still need to select some rows -- see slicing below.\n",
    "\n",
    "When we use two indexes (for a row and for a column) -- the result is an actual value stored in the array."
   ]
  },
  {
   "cell_type": "code",
   "execution_count": 38,
   "id": "e9b3647e",
   "metadata": {},
   "outputs": [
    {
     "data": {
      "text/plain": [
       "99"
      ]
     },
     "execution_count": 38,
     "metadata": {},
     "output_type": "execute_result"
    }
   ],
   "source": [
    "arr[1][3]  # get the second element of array and then its fourth element"
   ]
  },
  {
   "cell_type": "code",
   "execution_count": 39,
   "id": "7bcb41cb",
   "metadata": {},
   "outputs": [
    {
     "data": {
      "text/plain": [
       "array([[[ 0,  1,  2],\n",
       "        [ 3,  4,  5]],\n",
       "\n",
       "       [[ 6,  7,  8],\n",
       "        [ 9, 10, 11]]])"
      ]
     },
     "execution_count": 39,
     "metadata": {},
     "output_type": "execute_result"
    }
   ],
   "source": [
    "# indexing works the same for higher dimensionality\n",
    "arr = np.arange(12).reshape((2,2,3))   # get three-dimensional array\n",
    "arr"
   ]
  },
  {
   "cell_type": "code",
   "execution_count": 40,
   "id": "2b598552",
   "metadata": {},
   "outputs": [
    {
     "data": {
      "text/plain": [
       "11"
      ]
     },
     "execution_count": 40,
     "metadata": {},
     "output_type": "execute_result"
    }
   ],
   "source": [
    "arr[1, 1, 2]   # comma-separated indexes"
   ]
  },
  {
   "cell_type": "code",
   "execution_count": 41,
   "id": "49096334",
   "metadata": {},
   "outputs": [
    {
     "data": {
      "text/plain": [
       "11"
      ]
     },
     "execution_count": 41,
     "metadata": {},
     "output_type": "execute_result"
    }
   ],
   "source": [
    "arr[1][1][2]   # single indexes"
   ]
  },
  {
   "cell_type": "markdown",
   "id": "96e954cc",
   "metadata": {},
   "source": [
    "For the indexing above we provide an index for a row and then an index for a column. There should be two integers separated by comma. However, it does not really need to be a single integer -- it can be a collection of integers for rows and for columns."
   ]
  },
  {
   "cell_type": "code",
   "execution_count": 42,
   "id": "5784f20f",
   "metadata": {},
   "outputs": [
    {
     "name": "stdout",
     "output_type": "stream",
     "text": [
      "[[0 1 2 3 4]\n",
      " [5 6 7 8 9]]\n"
     ]
    }
   ],
   "source": [
    "arr = np.arange(10).reshape(2,5)\n",
    "print(arr)       # original array"
   ]
  },
  {
   "cell_type": "code",
   "execution_count": 43,
   "id": "b39bae88",
   "metadata": {},
   "outputs": [
    {
     "data": {
      "text/plain": [
       "array([3, 2, 8])"
      ]
     },
     "execution_count": 43,
     "metadata": {},
     "output_type": "execute_result"
    }
   ],
   "source": [
    "np.array([arr[0,3], arr[0,2], arr[1,3]])  # take three values and combine them in an array"
   ]
  },
  {
   "cell_type": "code",
   "execution_count": 44,
   "id": "a68e4ff0",
   "metadata": {},
   "outputs": [
    {
     "data": {
      "text/plain": [
       "array([3, 2, 8])"
      ]
     },
     "execution_count": 44,
     "metadata": {},
     "output_type": "execute_result"
    }
   ],
   "source": [
    "arr[(0,0,1), (3,2,3)] # take the same three values in one go by a collection of idexes"
   ]
  },
  {
   "cell_type": "code",
   "execution_count": 45,
   "id": "7bdb9459",
   "metadata": {},
   "outputs": [
    {
     "data": {
      "text/plain": [
       "array([3, 2, 8])"
      ]
     },
     "execution_count": 45,
     "metadata": {},
     "output_type": "execute_result"
    }
   ],
   "source": [
    "arr[[0,0,1], [3,2,3]] # the same as before but with a list of integers instead of a tuple"
   ]
  },
  {
   "cell_type": "markdown",
   "id": "c567de24",
   "metadata": {},
   "source": [
    "Indexing by multiple integers extract elements based on pair-wise data extraction -- first elements with the given row and column, second elements with the given row and column, etc. \n",
    "\n",
    "If we want to extract a piece of an array instead of individual elements, we need to combine indexing and slicing -- see examples in the next section."
   ]
  },
  {
   "cell_type": "markdown",
   "id": "03ca5a3d",
   "metadata": {},
   "source": [
    "### Slicing \n",
    "\n",
    "You should remember from the previous week, that when we do slicing of a list, we get a list as a result. The same is true for arrays -- when we do slicing of the array, we get an array as a result. "
   ]
  },
  {
   "cell_type": "code",
   "execution_count": 46,
   "id": "68442e65",
   "metadata": {},
   "outputs": [
    {
     "name": "stdout",
     "output_type": "stream",
     "text": [
      "[[0 1 2 3 4]\n",
      " [5 6 7 8 9]]\n"
     ]
    }
   ],
   "source": [
    "# two-dimesional array\n",
    "arr = np.arange(10).reshape((2,5))\n",
    "print(arr)     # original array"
   ]
  },
  {
   "cell_type": "code",
   "execution_count": 47,
   "id": "1ad4cb52",
   "metadata": {},
   "outputs": [
    {
     "data": {
      "text/plain": [
       "array([[0, 1, 2, 3, 4]])"
      ]
     },
     "execution_count": 47,
     "metadata": {},
     "output_type": "execute_result"
    }
   ],
   "source": [
    "arr[:1,:]  # take rows from the beginning till one step before 1 and then all columns, \n",
    "           # result is a two-dimensional array as we do slicing in two dimensions"
   ]
  },
  {
   "cell_type": "code",
   "execution_count": 48,
   "id": "775b6ca5",
   "metadata": {},
   "outputs": [
    {
     "data": {
      "text/plain": [
       "array([0, 1, 2, 3, 4])"
      ]
     },
     "execution_count": 48,
     "metadata": {},
     "output_type": "execute_result"
    }
   ],
   "source": [
    "arr[0,:]  # take row (single!) number 1 and then all columns\n",
    "          # result is a one-dimensional array as we do slicing in one dimension \n",
    "          # and indexing in the other dimension"
   ]
  },
  {
   "cell_type": "code",
   "execution_count": 49,
   "id": "d433372e",
   "metadata": {},
   "outputs": [
    {
     "data": {
      "text/plain": [
       "array([1, 6])"
      ]
     },
     "execution_count": 49,
     "metadata": {},
     "output_type": "execute_result"
    }
   ],
   "source": [
    "arr[:, 1] # take a column number 2 "
   ]
  },
  {
   "cell_type": "code",
   "execution_count": 50,
   "id": "c0e2a592",
   "metadata": {},
   "outputs": [
    {
     "data": {
      "text/plain": [
       "array([[0, 2, 4],\n",
       "       [5, 7, 9]])"
      ]
     },
     "execution_count": 50,
     "metadata": {},
     "output_type": "execute_result"
    }
   ],
   "source": [
    "arr[:, ::2]  # take all rows and then columns from first till last but with step 2"
   ]
  },
  {
   "cell_type": "code",
   "execution_count": 51,
   "id": "aea1b019",
   "metadata": {},
   "outputs": [
    {
     "data": {
      "text/plain": [
       "array([[0]])"
      ]
     },
     "execution_count": 51,
     "metadata": {},
     "output_type": "execute_result"
    }
   ],
   "source": [
    "arr[:1,:1]  # value is the same as arr[0,0], however data type is different\n",
    "            # result is a two-dimensional array instead of an integer"
   ]
  },
  {
   "cell_type": "markdown",
   "id": "f7490021",
   "metadata": {},
   "source": [
    "We can change values in the array by using slicing. We can replace all values in the slice by a single value, that is, all elements of the slice will have the same value. Alternatively, we can assign different values to the elements of the slice but for that we need to provide and array of the same shape."
   ]
  },
  {
   "cell_type": "code",
   "execution_count": 52,
   "id": "52611ff0",
   "metadata": {},
   "outputs": [
    {
     "name": "stdout",
     "output_type": "stream",
     "text": [
      "[[ 0 99  2  3  4]\n",
      " [ 5 99  7  8  9]]\n"
     ]
    }
   ],
   "source": [
    "arr[:, 1] = 99  # one value to replace the entire slice\n",
    "print(arr)"
   ]
  },
  {
   "cell_type": "code",
   "execution_count": 53,
   "id": "186834d5",
   "metadata": {},
   "outputs": [
    {
     "name": "stdout",
     "output_type": "stream",
     "text": [
      "[[ 0 71  2  3  4]\n",
      " [ 5 72  7  8  9]]\n"
     ]
    }
   ],
   "source": [
    "arr[:, 1] = np.array([71, 72])  # an array of matching shape to replace the slice\n",
    "print(arr)"
   ]
  },
  {
   "cell_type": "markdown",
   "id": "2e06e634",
   "metadata": {},
   "source": [
    "*Reminder:* numpy arrays are mutable, hence, an array slice is a view of the original array. If you change the slice, you change the original array as well. Re-call last week discussion on mutable and immutable."
   ]
  },
  {
   "cell_type": "code",
   "execution_count": 54,
   "id": "b87b61cb",
   "metadata": {},
   "outputs": [
    {
     "name": "stdout",
     "output_type": "stream",
     "text": [
      "[0 1 2 3 4 5 6 7 8 9]\n",
      "[5 6 7]\n"
     ]
    }
   ],
   "source": [
    "arr = np.arange(10)\n",
    "print(arr)       # original array\n",
    "brr = arr[5:8]\n",
    "print(brr)       # slice of the original array"
   ]
  },
  {
   "cell_type": "code",
   "execution_count": 55,
   "id": "b421c1e3",
   "metadata": {},
   "outputs": [
    {
     "name": "stdout",
     "output_type": "stream",
     "text": [
      "[ 0  1  2  3  4 99 99 99  8  9]\n",
      "[99 99 99]\n"
     ]
    }
   ],
   "source": [
    "arr[5:8] = 99    # change one array\n",
    "print(arr)       # get both arrays updated\n",
    "print(brr)"
   ]
  },
  {
   "cell_type": "markdown",
   "id": "e5deb7f9",
   "metadata": {},
   "source": [
    "*Reminder:* indexing can be done by multiple integers if they are organised together as a list or a tuple or an array. This trick can be used together with slicing."
   ]
  },
  {
   "cell_type": "code",
   "execution_count": 56,
   "id": "161921d5",
   "metadata": {},
   "outputs": [
    {
     "data": {
      "text/plain": [
       "array([[ 0,  1,  2,  3],\n",
       "       [ 4,  5,  6,  7],\n",
       "       [ 8,  9, 10, 11],\n",
       "       [12, 13, 14, 15],\n",
       "       [16, 17, 18, 19],\n",
       "       [20, 21, 22, 23],\n",
       "       [24, 25, 26, 27],\n",
       "       [28, 29, 30, 31]])"
      ]
     },
     "execution_count": 56,
     "metadata": {},
     "output_type": "execute_result"
    }
   ],
   "source": [
    "arr = np.arange(32).reshape((8, 4))\n",
    "arr   # a bit larger array"
   ]
  },
  {
   "cell_type": "code",
   "execution_count": 57,
   "id": "b4c45741",
   "metadata": {},
   "outputs": [
    {
     "data": {
      "text/plain": [
       "array([ 4, 23, 29, 10])"
      ]
     },
     "execution_count": 57,
     "metadata": {},
     "output_type": "execute_result"
    }
   ],
   "source": [
    "# use indexing only - we get four numbers\n",
    "arr[[1, 5, 7, 2], [0, 3, 1, 2]]"
   ]
  },
  {
   "cell_type": "code",
   "execution_count": 58,
   "id": "7aa72b6d",
   "metadata": {},
   "outputs": [
    {
     "data": {
      "text/plain": [
       "array([[ 4,  5,  6,  7],\n",
       "       [20, 21, 22, 23],\n",
       "       [28, 29, 30, 31],\n",
       "       [ 8,  9, 10, 11]])"
      ]
     },
     "execution_count": 58,
     "metadata": {},
     "output_type": "execute_result"
    }
   ],
   "source": [
    "# combine indexing and slicing - we get an array of selected rows and all columns\n",
    "arr[[1, 5, 7, 2], :]"
   ]
  },
  {
   "cell_type": "code",
   "execution_count": 59,
   "id": "2adbf6f5",
   "metadata": {},
   "outputs": [
    {
     "data": {
      "text/plain": [
       "array([[ 4,  7,  5,  6],\n",
       "       [20, 23, 21, 22],\n",
       "       [28, 31, 29, 30],\n",
       "       [ 8, 11,  9, 10]])"
      ]
     },
     "execution_count": 59,
     "metadata": {},
     "output_type": "execute_result"
    }
   ],
   "source": [
    "# do indexing for rows first, and then combine indexing and slicing to get columns\n",
    "# pay atention to the order of columns, it is different now\n",
    "arr[[1, 5, 7, 2]][:, [0, 3, 1, 2]]"
   ]
  },
  {
   "cell_type": "markdown",
   "id": "cfe92ef9",
   "metadata": {},
   "source": [
    "There is a special command that allows to get the same result as above in a more \"natural way\" -- simply by providing indexes for rows and columns. This is a function `np.ix_()`. It creates a tuple of arrays that can be used as indexes for the original array."
   ]
  },
  {
   "cell_type": "code",
   "execution_count": 60,
   "id": "4df3ba62",
   "metadata": {},
   "outputs": [
    {
     "data": {
      "text/plain": [
       "array([[ 4,  7,  5,  6],\n",
       "       [20, 23, 21, 22],\n",
       "       [28, 31, 29, 30],\n",
       "       [ 8, 11,  9, 10]])"
      ]
     },
     "execution_count": 60,
     "metadata": {},
     "output_type": "execute_result"
    }
   ],
   "source": [
    "# ix_() as an alternative to the above method\n",
    "arr[np.ix_([1, 5, 7, 2], [0, 3, 1, 2])]"
   ]
  },
  {
   "cell_type": "markdown",
   "id": "e46f1999",
   "metadata": {},
   "source": [
    "### Boolean Indexing\n",
    "\n",
    "Any operation over the array means an operation over each element of the array at the same time. If we do a comparison for the array, we get an array of the same shape but full of boolean values -- `True` and `False`."
   ]
  },
  {
   "cell_type": "code",
   "execution_count": 61,
   "id": "86fc37c6",
   "metadata": {},
   "outputs": [
    {
     "data": {
      "text/plain": [
       "array([[-0.51396849,  0.20294486,  3.22602354,  0.26626823,  0.50840769],\n",
       "       [ 0.40021174,  0.47356851, -0.79567453, -0.62944537,  1.43856845]])"
      ]
     },
     "execution_count": 61,
     "metadata": {},
     "output_type": "execute_result"
    }
   ],
   "source": [
    "arr = np.random.randn(2,5) # prepare an array of floats\n",
    "arr    # check the result"
   ]
  },
  {
   "cell_type": "code",
   "execution_count": 62,
   "id": "72e21f90",
   "metadata": {},
   "outputs": [
    {
     "data": {
      "text/plain": [
       "array([[False,  True,  True,  True,  True],\n",
       "       [ True,  True, False, False,  True]])"
      ]
     },
     "execution_count": 62,
     "metadata": {},
     "output_type": "execute_result"
    }
   ],
   "source": [
    "arr > 0    # do a comparison"
   ]
  },
  {
   "cell_type": "markdown",
   "id": "a197038b",
   "metadata": {},
   "source": [
    "This new array can be used as an index to extract values from the original array, or to replace them with new values."
   ]
  },
  {
   "cell_type": "code",
   "execution_count": 63,
   "id": "fde2124d",
   "metadata": {},
   "outputs": [
    {
     "data": {
      "text/plain": [
       "array([0.20294486, 3.22602354, 0.26626823, 0.50840769, 0.40021174,\n",
       "       0.47356851, 1.43856845])"
      ]
     },
     "execution_count": 63,
     "metadata": {},
     "output_type": "execute_result"
    }
   ],
   "source": [
    "arr[arr > 0]   # extract values matching True in the array of booleans"
   ]
  },
  {
   "cell_type": "code",
   "execution_count": 64,
   "id": "9588a666",
   "metadata": {},
   "outputs": [
    {
     "data": {
      "text/plain": [
       "array([[-0.51396849,  0.        ,  0.        ,  0.        ,  0.        ],\n",
       "       [ 0.        ,  0.        , -0.79567453, -0.62944537,  0.        ]])"
      ]
     },
     "execution_count": 64,
     "metadata": {},
     "output_type": "execute_result"
    }
   ],
   "source": [
    "arr[arr > 0] = 0  # replace all positive values by 0\n",
    "arr               # check the result"
   ]
  },
  {
   "cell_type": "markdown",
   "id": "5b8452cd",
   "metadata": {},
   "source": [
    "An array of boolean values don't need to be created from the original array. It can be any other array. However, it is very important to maintain the right size/shape of the boolean array to match the array with the data. If there is a mismatch in shapes, you'll get an error message."
   ]
  },
  {
   "cell_type": "code",
   "execution_count": 65,
   "id": "9bf262ec",
   "metadata": {},
   "outputs": [
    {
     "data": {
      "text/plain": [
       "array(['green', 'yellow'], dtype='<U6')"
      ]
     },
     "execution_count": 65,
     "metadata": {},
     "output_type": "execute_result"
    }
   ],
   "source": [
    "# two arrays of the same shape\n",
    "names = np.array(['Belinda', 'Malgorzata', 'John', 'Belinda', 'John', 'Jasper', 'Jasper'])\n",
    "colours = np.array(['green','red','blue','yellow','brown','green','purple'])\n",
    "\n",
    "colours[names == 'Belinda']"
   ]
  },
  {
   "cell_type": "markdown",
   "id": "4228d905",
   "metadata": {},
   "source": [
    "Logical operators `and` and `or` don't work with boolean arrays. You can use *bitwise operators* instead: `&` for `and`, `|` for `or`. You have seen them in the section on *Set* data type."
   ]
  },
  {
   "cell_type": "code",
   "execution_count": 66,
   "id": "538a50bd",
   "metadata": {},
   "outputs": [
    {
     "data": {
      "text/plain": [
       "array([ True, False, False,  True, False,  True,  True])"
      ]
     },
     "execution_count": 66,
     "metadata": {},
     "output_type": "execute_result"
    }
   ],
   "source": [
    "# get two arrays of booleans and combine them pair-wise by bitwise \"or\"\n",
    "mask = (names == 'Belinda') | (names == 'Jasper')\n",
    "mask  # the result is a boolean array"
   ]
  },
  {
   "cell_type": "code",
   "execution_count": 67,
   "id": "296552b6",
   "metadata": {},
   "outputs": [
    {
     "data": {
      "text/plain": [
       "array(['green', 'yellow', 'green', 'purple'], dtype='<U6')"
      ]
     },
     "execution_count": 67,
     "metadata": {},
     "output_type": "execute_result"
    }
   ],
   "source": [
    "# use a new boolean array for indexing\n",
    "colours[mask]"
   ]
  },
  {
   "cell_type": "code",
   "execution_count": 68,
   "id": "794164d8",
   "metadata": {},
   "outputs": [
    {
     "data": {
      "text/plain": [
       "array([[ 3, 10,  9,  8,  7,  5,  3,  5,  6,  9],\n",
       "       [ 9,  8,  1,  2,  1,  7,  1,  7,  4,  7]])"
      ]
     },
     "execution_count": 68,
     "metadata": {},
     "output_type": "execute_result"
    }
   ],
   "source": [
    "# another example - get an array of random integers\n",
    "arr = np.random.randint(low = 1, high = 11, size = (2,10))\n",
    "arr"
   ]
  },
  {
   "cell_type": "code",
   "execution_count": 69,
   "id": "ef8ee3ca",
   "metadata": {},
   "outputs": [
    {
     "data": {
      "text/plain": [
       "array([10,  8,  6,  8])"
      ]
     },
     "execution_count": 69,
     "metadata": {},
     "output_type": "execute_result"
    }
   ],
   "source": [
    "# extract values that are even AND greater than 5\n",
    "# pay attention to parenthesis as they are important to maintain correct precedence\n",
    "arr[(arr % 2 == 0) & (arr > 5)]"
   ]
  },
  {
   "cell_type": "markdown",
   "id": "7e02310a",
   "metadata": {},
   "source": [
    "## Universal functions\n",
    "\n",
    "### Math function\n",
    "\n",
    "A universal function, or *ufunc*, is a function that performs element-wise operations on data in ndarrays. Think of them as fast, vectorised wrappers for simple functions that take one or more scalar values and produce one or more scalar results. Many *ufuncs* are simple element-wise transformations, e.g.:"
   ]
  },
  {
   "cell_type": "code",
   "execution_count": 70,
   "id": "7bdb626a",
   "metadata": {},
   "outputs": [
    {
     "data": {
      "text/plain": [
       "array([[-0.76343578,  0.06078697, -0.4996457 , -2.22933228, -0.45293639],\n",
       "       [ 0.12659713,  1.02538341,  0.52286113,  0.48789138, -0.16021069]])"
      ]
     },
     "execution_count": 70,
     "metadata": {},
     "output_type": "execute_result"
    }
   ],
   "source": [
    "# prepare an array\n",
    "arr = np.random.randn(2,5)\n",
    "arr"
   ]
  },
  {
   "cell_type": "code",
   "execution_count": 71,
   "id": "9df90530",
   "metadata": {},
   "outputs": [
    {
     "data": {
      "text/plain": [
       "array([[0.76343578, 0.06078697, 0.4996457 , 2.22933228, 0.45293639],\n",
       "       [0.12659713, 1.02538341, 0.52286113, 0.48789138, 0.16021069]])"
      ]
     },
     "execution_count": 71,
     "metadata": {},
     "output_type": "execute_result"
    }
   ],
   "source": [
    "np.abs(arr)  # absolute value"
   ]
  },
  {
   "cell_type": "code",
   "execution_count": 72,
   "id": "d2fc2ba1",
   "metadata": {},
   "outputs": [
    {
     "data": {
      "text/plain": [
       "array([[5.82834196e-01, 3.69505547e-03, 2.49645821e-01, 4.96992241e+00,\n",
       "        2.05151369e-01],\n",
       "       [1.60268338e-02, 1.05141114e+00, 2.73383763e-01, 2.38037997e-01,\n",
       "        2.56674665e-02]])"
      ]
     },
     "execution_count": 72,
     "metadata": {},
     "output_type": "execute_result"
    }
   ],
   "source": [
    "np.square(arr) # take every element in power 2"
   ]
  },
  {
   "cell_type": "code",
   "execution_count": 73,
   "id": "8767010f",
   "metadata": {},
   "outputs": [
    {
     "name": "stderr",
     "output_type": "stream",
     "text": [
      "C:\\Users\\timbo\\AppData\\Local\\Temp\\ipykernel_1960\\784395232.py:1: RuntimeWarning: invalid value encountered in sqrt\n",
      "  np.sqrt(arr)  # square root - we get a warning and some values as NaN\n"
     ]
    },
    {
     "data": {
      "text/plain": [
       "array([[       nan, 0.24655013,        nan,        nan,        nan],\n",
       "       [0.35580491, 1.01261217, 0.72309137, 0.69849222,        nan]])"
      ]
     },
     "execution_count": 73,
     "metadata": {},
     "output_type": "execute_result"
    }
   ],
   "source": [
    "np.sqrt(arr)  # square root - we get a warning and some values as NaN\n",
    "              # because square root does not work for negative numbers"
   ]
  },
  {
   "cell_type": "markdown",
   "id": "215cffa9",
   "metadata": {},
   "source": [
    "All above functions take a single array. These functions are called *unary ufuncs*. A binary *ufunc* will take two arrays and return a single array, e.g."
   ]
  },
  {
   "cell_type": "code",
   "execution_count": 74,
   "id": "249bc865",
   "metadata": {},
   "outputs": [
    {
     "name": "stdout",
     "output_type": "stream",
     "text": [
      "[-0.16085756 -0.42478861  0.60321423  0.46530758 -0.1891658 ]\n",
      "[-1.03858759  0.37578124  1.20803619 -0.35427927 -2.02627503]\n"
     ]
    }
   ],
   "source": [
    "# prepare two arrays\n",
    "x = np.random.randn(5)\n",
    "y = np.random.randn(5)\n",
    "print(x)   # print two arrays\n",
    "print(y)"
   ]
  },
  {
   "cell_type": "code",
   "execution_count": 75,
   "id": "e84a38ed",
   "metadata": {},
   "outputs": [
    {
     "name": "stdout",
     "output_type": "stream",
     "text": [
      "[-1.19944514 -0.04900737  1.81125042  0.11102831 -2.21544082]\n",
      "[-1.19944514 -0.04900737  1.81125042  0.11102831 -2.21544082]\n"
     ]
    }
   ],
   "source": [
    "print(np.add(x,y))  # element-wise addition\n",
    "print(x + y)        # the same as above"
   ]
  },
  {
   "cell_type": "code",
   "execution_count": 76,
   "id": "347d2480",
   "metadata": {},
   "outputs": [
    {
     "name": "stdout",
     "output_type": "stream",
     "text": [
      "[ 0.87773003 -0.80056985 -0.60482195  0.81958685  1.83710923]\n",
      "[ 0.87773003 -0.80056985 -0.60482195  0.81958685  1.83710923]\n"
     ]
    }
   ],
   "source": [
    "print(np.subtract(x,y))  # element-wise difference\n",
    "print(x - y)             # the same as above"
   ]
  },
  {
   "cell_type": "code",
   "execution_count": 77,
   "id": "e149d0db",
   "metadata": {},
   "outputs": [
    {
     "name": "stdout",
     "output_type": "stream",
     "text": [
      "[ 0.16706466 -0.15962759  0.72870462 -0.16484883  0.38330193]\n",
      "[ 0.16706466 -0.15962759  0.72870462 -0.16484883  0.38330193]\n"
     ]
    }
   ],
   "source": [
    "print(np.multiply(x, y))   # element-wise product\n",
    "print(x * y)               # the same as above"
   ]
  },
  {
   "cell_type": "code",
   "execution_count": 78,
   "id": "6f9f8247",
   "metadata": {},
   "outputs": [
    {
     "name": "stdout",
     "output_type": "stream",
     "text": [
      "[ 0.15488107 -1.13041462  0.49933457 -1.31339207  0.09335643]\n",
      "[ 0.15488107 -1.13041462  0.49933457 -1.31339207  0.09335643]\n"
     ]
    }
   ],
   "source": [
    "print(np.divide(x, y))   # element-wise division\n",
    "print(x / y)             # the same as above"
   ]
  },
  {
   "cell_type": "markdown",
   "id": "3c3910f3",
   "metadata": {},
   "source": [
    "Majority of *ufuncs* return a single array. However, it is possible for some functions to return multiple arrays. See an example below -- *ufunc* returns a tuple with two arrays of the same size showing fractional and integral parts."
   ]
  },
  {
   "cell_type": "code",
   "execution_count": 79,
   "id": "87f68f00",
   "metadata": {},
   "outputs": [
    {
     "name": "stdout",
     "output_type": "stream",
     "text": [
      "[[-1.13915899  2.27793224 -0.90263874 -0.14287141  0.69265962]\n",
      " [-1.47689507  0.53387581  3.80111312  2.65874356 -1.83243909]]\n"
     ]
    },
    {
     "data": {
      "text/plain": [
       "(array([[-0.13915899,  0.27793224, -0.90263874, -0.14287141,  0.69265962],\n",
       "        [-0.47689507,  0.53387581,  0.80111312,  0.65874356, -0.83243909]]),\n",
       " array([[-1.,  2., -0., -0.,  0.],\n",
       "        [-1.,  0.,  3.,  2., -1.]]))"
      ]
     },
     "execution_count": 79,
     "metadata": {},
     "output_type": "execute_result"
    }
   ],
   "source": [
    "arr = np.random.normal(0, 2, size = (2,5))    # create an array\n",
    "print(arr)     # check the array\n",
    "\n",
    "np.modf(arr)   # fractional and integral parts"
   ]
  },
  {
   "cell_type": "markdown",
   "id": "bda026ef",
   "metadata": {},
   "source": [
    "### Expressing  Conditional  Logic\n",
    "\n",
    "Function to work with conditional logic `np.where()`. It takes an array of boolean values and output an array of indexes for value `True`. An alternative way for using this function is to provide it with two sets of values, so the function returns an array of the same size as an array of booleans but with values from the first set for `True` and values from the second set for `False`."
   ]
  },
  {
   "cell_type": "code",
   "execution_count": 80,
   "id": "56fc45c8",
   "metadata": {},
   "outputs": [
    {
     "name": "stdout",
     "output_type": "stream",
     "text": [
      "[[ 0.98141449 -2.13210275  1.68099331 -1.39025395  1.23885129]\n",
      " [-1.2102027   0.61777744  0.09614732 -0.2063556  -1.20684437]]\n"
     ]
    }
   ],
   "source": [
    "arr = np.random.normal(0, 1, size = (2,5))    # create an array\n",
    "print(arr)     # check the array"
   ]
  },
  {
   "cell_type": "code",
   "execution_count": 81,
   "id": "932404b4",
   "metadata": {},
   "outputs": [
    {
     "data": {
      "text/plain": [
       "(array([0, 0, 1, 1, 1], dtype=int64), array([1, 3, 0, 3, 4], dtype=int64))"
      ]
     },
     "execution_count": 81,
     "metadata": {},
     "output_type": "execute_result"
    }
   ],
   "source": [
    "np.where(arr < 0)  # provide an array of boolean values  "
   ]
  },
  {
   "cell_type": "markdown",
   "id": "6399028a",
   "metadata": {},
   "source": [
    "The result of the function is a tuple with two arrays. First array contains indexes for rows and second array contains indexes for coloumns, where an array of booleans has values `True`."
   ]
  },
  {
   "cell_type": "code",
   "execution_count": 82,
   "id": "5f9523d3",
   "metadata": {},
   "outputs": [
    {
     "data": {
      "text/plain": [
       "array([[ 1, -1,  1, -1,  1],\n",
       "       [-1,  1,  1, -1, -1]])"
      ]
     },
     "execution_count": 82,
     "metadata": {},
     "output_type": "execute_result"
    }
   ],
   "source": [
    "np.where(arr < 0, -1, 1)  # provide two alternatives: first for True and seconf for False"
   ]
  },
  {
   "cell_type": "markdown",
   "id": "48d2bc46",
   "metadata": {},
   "source": [
    "Alternatives don't need to be scalars, they can be arrays of the same shape as the original array of booleans. Then the resulted array takes the value from the first array in case of `True` and from the second array in case of `False`."
   ]
  },
  {
   "cell_type": "code",
   "execution_count": 83,
   "id": "e53f2552",
   "metadata": {},
   "outputs": [
    {
     "data": {
      "text/plain": [
       "array(['1', 'b', '3', '4', 'e'], dtype='<U11')"
      ]
     },
     "execution_count": 83,
     "metadata": {},
     "output_type": "execute_result"
    }
   ],
   "source": [
    "#prepare three arrays of the same shape\n",
    "arr_x = np.array([1, 2, 3, 4, 5])\n",
    "arr_y = np.array([\"a\",\"b\",\"c\",\"d\",\"e\"])\n",
    "cond = np.array([True, False, True, True, False])\n",
    "\n",
    "np.where(cond, arr_x, arr_y) # if True - take value from X, otherwise - take value from Y\n",
    "                             # obviously, the result is converted to string as array is always homogeneous"
   ]
  },
  {
   "cell_type": "markdown",
   "id": "88ead9e8",
   "metadata": {},
   "source": [
    "It is OK to mix an array (of correct shape) and a scalor as possible outputs for the function `np.where()`."
   ]
  },
  {
   "cell_type": "code",
   "execution_count": 84,
   "id": "81522082",
   "metadata": {},
   "outputs": [
    {
     "name": "stdout",
     "output_type": "stream",
     "text": [
      "[[ 0.98141449 -2.13210275  1.68099331 -1.39025395  1.23885129]\n",
      " [-1.2102027   0.61777744  0.09614732 -0.2063556  -1.20684437]]\n"
     ]
    },
    {
     "data": {
      "text/plain": [
       "array([[ 0.        , -2.13210275,  0.        , -1.39025395,  0.        ],\n",
       "       [-1.2102027 ,  0.        ,  0.        , -0.2063556 , -1.20684437]])"
      ]
     },
     "execution_count": 84,
     "metadata": {},
     "output_type": "execute_result"
    }
   ],
   "source": [
    "print(arr)  # check our \"old\" array\n",
    "\n",
    "np.where(arr < 0, arr, 0)  # take an element from \"arr\" if True and 0 otherwise"
   ]
  },
  {
   "cell_type": "markdown",
   "id": "d1630ebd",
   "metadata": {},
   "source": [
    "### Functions to modify arrays\n",
    "\n",
    "There are functions to modify arrays. Here we have to talk about functions from the package `numpy` and methods of the `ndarray` itself. Very often they overlap in functionality. You have seen some of this functions. For example, functions to reshape an array"
   ]
  },
  {
   "cell_type": "code",
   "execution_count": 85,
   "id": "8adf7384",
   "metadata": {},
   "outputs": [
    {
     "data": {
      "text/plain": [
       "array([ 0,  1,  2,  3,  4,  5,  6,  7,  8,  9, 10, 11])"
      ]
     },
     "execution_count": 85,
     "metadata": {},
     "output_type": "execute_result"
    }
   ],
   "source": [
    "arr = np.arange(12)   # prepare an array\n",
    "arr                   # this is a one-dimensional array"
   ]
  },
  {
   "cell_type": "code",
   "execution_count": 86,
   "id": "80dde133",
   "metadata": {},
   "outputs": [
    {
     "data": {
      "text/plain": [
       "array([[ 0,  1,  2,  3,  4,  5],\n",
       "       [ 6,  7,  8,  9, 10, 11]])"
      ]
     },
     "execution_count": 86,
     "metadata": {},
     "output_type": "execute_result"
    }
   ],
   "source": [
    "arr.reshape(2,6)   # array method converts to two-dimensional array"
   ]
  },
  {
   "cell_type": "code",
   "execution_count": 87,
   "id": "c0790dda",
   "metadata": {},
   "outputs": [
    {
     "data": {
      "text/plain": [
       "array([[ 0,  1,  2,  3],\n",
       "       [ 4,  5,  6,  7],\n",
       "       [ 8,  9, 10, 11]])"
      ]
     },
     "execution_count": 87,
     "metadata": {},
     "output_type": "execute_result"
    }
   ],
   "source": [
    "np.reshape(arr, (3, 4))  # numpy function to change the shape"
   ]
  },
  {
   "cell_type": "markdown",
   "id": "6e55dd12",
   "metadata": {},
   "source": [
    "The function `reshape()` creates a *reference* or a *view* on the original array. If you change one array, the other one would change as well. One more reminder: numpy arrays are mutable and they contain references -- not copies -- of values."
   ]
  },
  {
   "cell_type": "code",
   "execution_count": 88,
   "id": "90885764",
   "metadata": {},
   "outputs": [
    {
     "name": "stdout",
     "output_type": "stream",
     "text": [
      "arr: [ 0  1  2  3  4  5  6  7  8  9 10 11]\n",
      "brr: [[ 0  1  2  3  4  5]\n",
      " [ 6  7  8  9 10 11]]\n",
      "check both arrays after the update:\n",
      "arr: [99  1  2  3  4  5  6  7  8  9 10 11]\n",
      "brr: [[99  1  2  3  4  5]\n",
      " [ 6  7  8  9 10 11]]\n"
     ]
    }
   ],
   "source": [
    "arr = np.arange(12)     # prepare an array\n",
    "print(\"arr:\", arr)              # this is a one-dimensional array\n",
    "brr = arr.reshape(2,6)  # reshape and store as a new variable\n",
    "print(\"brr:\", brr)              # check the \"new\" array\n",
    "brr[0,0] = 99           # change the value of in the new array\n",
    "print(\"check both arrays after the update:\")\n",
    "print(\"arr:\", arr)\n",
    "print(\"brr:\", brr)"
   ]
  },
  {
   "cell_type": "markdown",
   "id": "2d3dd76b",
   "metadata": {},
   "source": [
    "The function `reshape()` in any of its versions requires that the size of the array does not change. For example, my orriginal array has 12 values, and the reshaped array has the same 12 values (that is, size 12) in both examples: 2 rows/6 columns and 3 rows/4 columns. We cannot get 2 rows and 5 columns as it means a size 10 only. The function `reshape()` changes the shape but it guarantees that we don't lose any information -- actual values remain as they are.\n",
    "\n",
    "If we are happy to lose some information, then there is a function `resize()`. It changes the shape of the array but it allows any size in the new array."
   ]
  },
  {
   "cell_type": "code",
   "execution_count": 89,
   "id": "d73f35d2",
   "metadata": {},
   "outputs": [
    {
     "data": {
      "text/plain": [
       "array([[99,  1,  2,  3,  4],\n",
       "       [ 5,  6,  7,  8,  9]])"
      ]
     },
     "execution_count": 89,
     "metadata": {},
     "output_type": "execute_result"
    }
   ],
   "source": [
    "np.resize(arr, (2, 5))    # we lost some elements as the size is changed to 10"
   ]
  },
  {
   "cell_type": "code",
   "execution_count": 90,
   "id": "11044952",
   "metadata": {},
   "outputs": [
    {
     "data": {
      "text/plain": [
       "array([[99,  1,  2,  3,  4,  5,  6,  7],\n",
       "       [ 8,  9, 10, 11, 99,  1,  2,  3]])"
      ]
     },
     "execution_count": 90,
     "metadata": {},
     "output_type": "execute_result"
    }
   ],
   "source": [
    "np.resize(arr, (2, 8))    # we got some values repeated as the size is changed to 16"
   ]
  },
  {
   "cell_type": "code",
   "execution_count": 91,
   "id": "cb2c86da",
   "metadata": {},
   "outputs": [],
   "source": [
    "arr.resize((2, 5), refcheck=False)   # array method to resize, it returns nothing but changes original array"
   ]
  },
  {
   "cell_type": "markdown",
   "id": "555485dc",
   "metadata": {},
   "source": [
    "An array method `resize()` does not return a new array but makes a change *on place*, that is, it changes the original array. \n",
    "\n",
    "It is impossible to change the size of the array that has been referenced in some other arrays. So, I used an extra argument `refcheck=False` for the reference check -- it creates a copy of the array."
   ]
  },
  {
   "cell_type": "code",
   "execution_count": 92,
   "id": "048dd934",
   "metadata": {},
   "outputs": [
    {
     "data": {
      "text/plain": [
       "array([[0, 1, 2, 3, 4],\n",
       "       [5, 6, 7, 8, 9]])"
      ]
     },
     "execution_count": 92,
     "metadata": {},
     "output_type": "execute_result"
    }
   ],
   "source": [
    "arr = np.arange(12)   # this is a new array and it is not referenced anywhere [yet!]\n",
    "arr.resize(2,5)       # resize - no output produced\n",
    "arr                   # check the array - it changed"
   ]
  },
  {
   "cell_type": "markdown",
   "id": "dd8328b2",
   "metadata": {},
   "source": [
    "Another common way to change an array is transposing -- changes its axes. There are several ways to do it"
   ]
  },
  {
   "cell_type": "code",
   "execution_count": 93,
   "id": "e6cc03be",
   "metadata": {},
   "outputs": [
    {
     "data": {
      "text/plain": [
       "array([[0, 1, 2, 3, 4],\n",
       "       [5, 6, 7, 8, 9]])"
      ]
     },
     "execution_count": 93,
     "metadata": {},
     "output_type": "execute_result"
    }
   ],
   "source": [
    "arr   # check the array we have in memory"
   ]
  },
  {
   "cell_type": "code",
   "execution_count": 94,
   "id": "9c864425",
   "metadata": {},
   "outputs": [
    {
     "name": "stdout",
     "output_type": "stream",
     "text": [
      "[[0 5]\n",
      " [1 6]\n",
      " [2 7]\n",
      " [3 8]\n",
      " [4 9]]\n",
      "[[0 5]\n",
      " [1 6]\n",
      " [2 7]\n",
      " [3 8]\n",
      " [4 9]]\n",
      "[[0 5]\n",
      " [1 6]\n",
      " [2 7]\n",
      " [3 8]\n",
      " [4 9]]\n",
      "[[0 5]\n",
      " [1 6]\n",
      " [2 7]\n",
      " [3 8]\n",
      " [4 9]]\n"
     ]
    }
   ],
   "source": [
    "print(arr.T)                # change the property of an array - no round brackets at the end\n",
    "print(arr.transpose())      # use array method\n",
    "print(np.transpose(arr))    # use numpy function\n",
    "print(np.swapaxes(arr,0,1)) # swap axes 0 and 1 which is the same as transpose (for 2D array)"
   ]
  },
  {
   "cell_type": "markdown",
   "id": "5cbec646",
   "metadata": {},
   "source": [
    "All approaches above provide the same results, so you are free to choose whatever approach you prefer."
   ]
  },
  {
   "cell_type": "markdown",
   "id": "0bc05a2a",
   "metadata": {},
   "source": [
    "### Array aggregations\n",
    "\n",
    "The most important type of calculations for data analysis is aggregation. We might have a lot of data, for example annual income for all people in Australia -- there will be more than 25 million numbers. It is impossible to understand them as they are, so we need to aggregate millions of numbers into one or two numbers that will be a meaningful representation for income levels in Australia.\n",
    "\n",
    "Aggregation is a calculation to get one number from many numbers. Obviously, NumPy has all functions you might need for that. Statistics should help you get better understanding what numbers/functions are appropriate for your data. Again, as before, there are numpy functions and array methods available."
   ]
  },
  {
   "cell_type": "code",
   "execution_count": 95,
   "id": "cc5decca",
   "metadata": {},
   "outputs": [],
   "source": [
    "# assume this is the data with income levels\n",
    "income = np.random.lognormal(11, 3, 25000000)  \n",
    "\n",
    "# it would be more appropriate to round the results for the presentation, \n",
    "# however, I leave it as is for simplicity"
   ]
  },
  {
   "cell_type": "code",
   "execution_count": 96,
   "id": "2e7cea82",
   "metadata": {},
   "outputs": [
    {
     "name": "stdout",
     "output_type": "stream",
     "text": [
      "0.001827785460533438\n",
      "1695886377677.392\n",
      "5415488.8438991085\n",
      "413250682.47672516\n",
      "135387221097477.72\n"
     ]
    }
   ],
   "source": [
    "# array methods\n",
    "print(income.min())   # minimal income\n",
    "print(income.max())   # maximal income\n",
    "print(income.mean())  # \"average\" income - mean income\n",
    "print(income.std())   # standard deviations of the income\n",
    "print(income.sum())   # total income in Australia"
   ]
  },
  {
   "cell_type": "code",
   "execution_count": 97,
   "id": "a2e3c242",
   "metadata": {},
   "outputs": [
    {
     "name": "stdout",
     "output_type": "stream",
     "text": [
      "0.001827785460533438\n",
      "1695886377677.392\n",
      "5415488.8438991085\n",
      "413250682.47672516\n",
      "135387221097477.72\n",
      "59906.10734507931\n",
      "[  7919.55004438  59906.10734508 452831.20818422]\n"
     ]
    }
   ],
   "source": [
    "# numpy function - they repeat array methods and add more functions\n",
    "print(np.min(income))   # minimal income\n",
    "print(np.max(income))   # maximal income\n",
    "print(np.mean(income))  # \"average\" income - mean income\n",
    "print(np.std(income))   # standard deviations of the income\n",
    "print(np.sum(income))   # total income in Australia\n",
    "\n",
    "print(np.median(income))  # \"average\" income - median income\n",
    "print(np.quantile(income, (0.25, 0.5, 0.75)))  # quantiles      "
   ]
  },
  {
   "cell_type": "markdown",
   "id": "7b9f8946",
   "metadata": {},
   "source": [
    "An example above works with one-dimensional array. However, our data might be presented as a multidimensional array. The most common case is a two-dimensional array, but it can go in to a higher dimensionality. In this case, we need to provide an axis to what dimension we want to make an aggregation. For example, get an average for each row or get a median for each column."
   ]
  },
  {
   "cell_type": "code",
   "execution_count": 98,
   "id": "32010dcd",
   "metadata": {},
   "outputs": [
    {
     "data": {
      "text/plain": [
       "array([[ 0,  1,  2,  3],\n",
       "       [ 4,  5,  6,  7],\n",
       "       [ 8,  9, 10, 11]])"
      ]
     },
     "execution_count": 98,
     "metadata": {},
     "output_type": "execute_result"
    }
   ],
   "source": [
    "arr = np.arange(12).reshape(3,4)    # prepare the data\n",
    "arr"
   ]
  },
  {
   "cell_type": "code",
   "execution_count": 99,
   "id": "998deeea",
   "metadata": {},
   "outputs": [
    {
     "data": {
      "text/plain": [
       "array([4., 5., 6., 7.])"
      ]
     },
     "execution_count": 99,
     "metadata": {},
     "output_type": "execute_result"
    }
   ],
   "source": [
    "arr.mean(0)  # aggregate along dimension 0, that is, along rows\n",
    "             # result is an array of means for each column"
   ]
  },
  {
   "cell_type": "code",
   "execution_count": 100,
   "id": "32ac69ce",
   "metadata": {},
   "outputs": [
    {
     "data": {
      "text/plain": [
       "array([ 6, 22, 38])"
      ]
     },
     "execution_count": 100,
     "metadata": {},
     "output_type": "execute_result"
    }
   ],
   "source": [
    "arr.sum(1)  # aggregate along dimension 1, that is, along columns\n",
    "            # result is an array of sums for each row"
   ]
  },
  {
   "cell_type": "code",
   "execution_count": 101,
   "id": "6ae94548",
   "metadata": {},
   "outputs": [
    {
     "data": {
      "text/plain": [
       "array([3.26598632, 3.26598632, 3.26598632, 3.26598632])"
      ]
     },
     "execution_count": 101,
     "metadata": {},
     "output_type": "execute_result"
    }
   ],
   "source": [
    "np.std(arr, axis = 0)  # the same for numpy function\n",
    "                       # we go along rows, so we get standard deviations for each column"
   ]
  },
  {
   "cell_type": "markdown",
   "id": "4e11b75e",
   "metadata": {},
   "source": [
    "Using some aggregation functions for an array of boolean values have a special and very useful meaning. *Reminder:* boolean values are simultaneously integer data types. `True` is equal 1, and `False` is equal 0."
   ]
  },
  {
   "cell_type": "code",
   "execution_count": 102,
   "id": "f8a66ec7",
   "metadata": {},
   "outputs": [
    {
     "data": {
      "text/plain": [
       "array([ 0.03757634, -0.10623271, -1.17522788, -0.7436258 , -0.26645276,\n",
       "        0.55351173,  0.14083376, -0.93160116,  0.92393134,  2.67330398])"
      ]
     },
     "execution_count": 102,
     "metadata": {},
     "output_type": "execute_result"
    }
   ],
   "source": [
    "arr = np.random.randn(100) # prepare an array of random numbers\n",
    "arr[:10]   # check first 10 values"
   ]
  },
  {
   "cell_type": "code",
   "execution_count": 103,
   "id": "5f9d632c",
   "metadata": {},
   "outputs": [
    {
     "name": "stdout",
     "output_type": "stream",
     "text": [
      "43\n",
      "0.43\n"
     ]
    }
   ],
   "source": [
    "print((arr > 0).sum())   # summation gives the number of positive values\n",
    "print((arr > 0).mean())  # mean gives the proportion of positive values in the array"
   ]
  },
  {
   "cell_type": "markdown",
   "id": "953b7c7b",
   "metadata": {},
   "source": [
    "There are two  additional  methods  especially  for  boolean arrays:\n",
    "\n",
    "* `any()` tests whether  one  or  more  values  in  an  array  is  `True`.\n",
    "* `all()` checks if  every  value  is  `True`."
   ]
  },
  {
   "cell_type": "code",
   "execution_count": 104,
   "id": "a0d73985",
   "metadata": {},
   "outputs": [
    {
     "name": "stdout",
     "output_type": "stream",
     "text": [
      "True\n",
      "False\n"
     ]
    }
   ],
   "source": [
    "bools = np.array([False, False, True, False])   # prepare the data\n",
    "\n",
    "print(bools.any())  # is there any True values? - Yes, that is True\n",
    "print(bools.all())  # is there all values equal True? - No, that is False"
   ]
  },
  {
   "cell_type": "markdown",
   "id": "567b0140",
   "metadata": {},
   "source": [
    "### Matrix calcualtions\n",
    "\n",
    "All functions we considered so far do element-wise calculation. This is a default behaviour for NumPy. However, any array looks like a matrix and there is some functionality for matrix calculations. There are other packages for matrix algebra but NumPy can do some matrix algebra too. You can read more here -- https://numpy.org/doc/stable/reference/routines.linalg.html"
   ]
  },
  {
   "cell_type": "code",
   "execution_count": 105,
   "id": "8156967a",
   "metadata": {},
   "outputs": [
    {
     "name": "stdout",
     "output_type": "stream",
     "text": [
      "[[1 2]\n",
      " [3 4]]\n",
      "[[5 6]\n",
      " [7 8]]\n"
     ]
    }
   ],
   "source": [
    "# prepare two arrays\n",
    "x = np.array([[1,2],[3,4]])\n",
    "y = np.array([[5,6],[7,8]])\n",
    "print(x)\n",
    "print(y)"
   ]
  },
  {
   "cell_type": "code",
   "execution_count": 106,
   "id": "17d726b1",
   "metadata": {},
   "outputs": [
    {
     "data": {
      "text/plain": [
       "array([[19, 22],\n",
       "       [43, 50]])"
      ]
     },
     "execution_count": 106,
     "metadata": {},
     "output_type": "execute_result"
    }
   ],
   "source": [
    "np.dot(x, y)    # matrix dot product by numpy function"
   ]
  },
  {
   "cell_type": "code",
   "execution_count": 107,
   "id": "59a2d6cf",
   "metadata": {},
   "outputs": [
    {
     "data": {
      "text/plain": [
       "array([[19, 22],\n",
       "       [43, 50]])"
      ]
     },
     "execution_count": 107,
     "metadata": {},
     "output_type": "execute_result"
    }
   ],
   "source": [
    "x.dot(y)       # alternative approach using an array method"
   ]
  },
  {
   "cell_type": "markdown",
   "id": "6e1ec8b4",
   "metadata": {},
   "source": [
    "### Exercise on linear regression analysis\n",
    "\n",
    "Below is a small example on using NumPy vectorisation to create a linear regression problem and then solve it using matrix calculations. "
   ]
  },
  {
   "cell_type": "code",
   "execution_count": 108,
   "id": "aa72bb0c",
   "metadata": {},
   "outputs": [
    {
     "data": {
      "image/png": "[encoded data removed]",
      "text/plain": [
       "<Figure size 432x288 with 1 Axes>"
      ]
     },
     "metadata": {
      "needs_background": "light"
     },
     "output_type": "display_data"
    }
   ],
   "source": [
    "a = 5; b = 2                    # intercept and slope for the regression line\n",
    "N = 100                         # sample size\n",
    "x = np.random.normal(2, 1, N)   # x values\n",
    "err = np.random.randn(N)        # error terms\n",
    "\n",
    "y = a + b * x + 0.75 * err       # regression equation usnig vectorisation\n",
    "\n",
    "# basic data visualisation\n",
    "import matplotlib.pyplot as plt\n",
    "plt.scatter(x, y)\n",
    "plt.xlabel('x')\n",
    "plt.ylabel('y')\n",
    "plt.show()"
   ]
  },
  {
   "cell_type": "code",
   "execution_count": 109,
   "id": "98aaeaa5",
   "metadata": {},
   "outputs": [
    {
     "name": "stdout",
     "output_type": "stream",
     "text": [
      "[[1.         2.82281064]\n",
      " [1.         3.23845318]\n",
      " [1.         3.29907045]\n",
      " [1.         1.74260687]\n",
      " [1.         2.46572793]]\n",
      "[[10.2271165 ]\n",
      " [11.60241691]\n",
      " [11.14599259]\n",
      " [ 9.02735564]\n",
      " [ 9.93986023]]\n"
     ]
    }
   ],
   "source": [
    "# matrix-based solution\n",
    "# convert x and y in to proper matrixes for analysis, that is, two-dimensional arrays\n",
    "X = np.hstack((np.ones((N,1)), x.reshape(N,1)))\n",
    "Y = y.reshape(N,1)\n",
    "\n",
    "# print top 5 rows of each matrix\n",
    "print(X[0:5])\n",
    "print(Y[0:5])"
   ]
  },
  {
   "cell_type": "code",
   "execution_count": 110,
   "id": "9ef90a6b",
   "metadata": {},
   "outputs": [
    {
     "data": {
      "text/plain": [
       "array([[5.01511138],\n",
       "       [1.97493253]])"
      ]
     },
     "execution_count": 110,
     "metadata": {},
     "output_type": "execute_result"
    }
   ],
   "source": [
    "# OLS regression solution formula using numpy functionality\n",
    "np.linalg.pinv(X.T.dot(X)).dot(X.T).dot(Y)"
   ]
  },
  {
   "cell_type": "markdown",
   "id": "9302a9a6",
   "metadata": {},
   "source": [
    "Two values we got as a result are very close to \"true\" values of the intercept and slope we used to generate the data. Hence, the method works fine.\n",
    "\n",
    "No need to memorise this example. We would never use this approach to solve linear regression problems as there are special tools for that. For example, using `scikit-learn` -- https://scikit-learn.org/stable/index.html. You will need just one line of code for the most complex analysis."
   ]
  },
  {
   "cell_type": "code",
   "execution_count": 111,
   "id": "54113d37",
   "metadata": {},
   "outputs": [
    {
     "name": "stdout",
     "output_type": "stream",
     "text": [
      "[5.01511138]\n",
      "[[1.97493253]]\n"
     ]
    }
   ],
   "source": [
    "# load the best package for machine leaning using Python\n",
    "from sklearn.linear_model import LinearRegression\n",
    "\n",
    "# run regression analisys\n",
    "reg = LinearRegression().fit(x.reshape(-1,1), y.reshape(-1,1))\n",
    "\n",
    "print(reg.intercept_)   # intercept\n",
    "print(reg.coef_)        # slope"
   ]
  },
  {
   "cell_type": "markdown",
   "id": "7040be00",
   "metadata": {},
   "source": [
    "## Save and load data\n",
    "\n",
    "There are two sides of the problem of storing and loading data which are common for many packages: \n",
    "1. Package Numpy can store data in its own binary format and then load these data. \n",
    "2. Package Numpy can store and load data in \"alien\" formats, e.g. txt.\n",
    "\n",
    "The first option works through functions `np.save()` and `np.load()`. It is assumed that you have loaded the package Numpy with abbreviated name `import numpy as np`."
   ]
  },
  {
   "cell_type": "code",
   "execution_count": 112,
   "id": "51ccedc3",
   "metadata": {},
   "outputs": [],
   "source": [
    "import numpy as np\n",
    "arr = np.arange(10) # create a test array\n",
    "np.save(\"my_array\", arr) # save an array in a file"
   ]
  },
  {
   "cell_type": "markdown",
   "id": "84d8b569",
   "metadata": {},
   "source": [
    "Now, if you check your working directory, you see a file `my_array.npy`. Extension `.npy` was added automatically and it is a default format to save data -- an uncompressed raw binary format. "
   ]
  },
  {
   "cell_type": "code",
   "execution_count": 113,
   "id": "6e221ae7",
   "metadata": {},
   "outputs": [
    {
     "data": {
      "text/plain": [
       "array([0, 1, 2, 3, 4, 5, 6, 7, 8, 9])"
      ]
     },
     "execution_count": 113,
     "metadata": {},
     "output_type": "execute_result"
    }
   ],
   "source": [
    "del arr   # delete an array for a \"clean\" test\n",
    "          # you can check - \"arr\" is not available in memory\n",
    "arr = np.load(\"my_array.npy\")  # load data into a variable \"arr\"\n",
    "arr"
   ]
  },
  {
   "cell_type": "markdown",
   "id": "7b3f2a57",
   "metadata": {},
   "source": [
    "It is possible to save multiple arrays in one zip archive using a function `np.savez()`. You provide arrays to save as keyword arguments and these keywords become names for your arrays."
   ]
  },
  {
   "cell_type": "code",
   "execution_count": 114,
   "id": "bf79a7c6",
   "metadata": {},
   "outputs": [],
   "source": [
    "np.savez(\"many_arrays.npz\", a = arr, b = arr)  # we store the same array twice for the test"
   ]
  },
  {
   "cell_type": "markdown",
   "id": "e1203718",
   "metadata": {},
   "source": [
    "Again, check your working directory -- there is a new file `many_arrays.npz`."
   ]
  },
  {
   "cell_type": "code",
   "execution_count": 115,
   "id": "92fea09b",
   "metadata": {},
   "outputs": [
    {
     "data": {
      "text/plain": [
       "<numpy.lib.npyio.NpzFile at 0x23b22484640>"
      ]
     },
     "execution_count": 115,
     "metadata": {},
     "output_type": "execute_result"
    }
   ],
   "source": [
    "my_data = np.load(\"many_arrays.npz\") # load data into a variable \"my_data\"\n",
    "my_data"
   ]
  },
  {
   "cell_type": "markdown",
   "id": "6dabc7a2",
   "metadata": {},
   "source": [
    "The result of loading data is a special object from `numpy` package. However, it behaves very similar to a dictionary data type and have similar methods. Try to run `dir(my_data)`."
   ]
  },
  {
   "cell_type": "code",
   "execution_count": 116,
   "id": "2053d287",
   "metadata": {},
   "outputs": [
    {
     "data": {
      "text/plain": [
       "['a', 'b']"
      ]
     },
     "execution_count": 116,
     "metadata": {},
     "output_type": "execute_result"
    }
   ],
   "source": [
    "my_data.files  # property to get a list of objects inside zip-archive"
   ]
  },
  {
   "cell_type": "code",
   "execution_count": 117,
   "id": "456662bb",
   "metadata": {},
   "outputs": [
    {
     "data": {
      "text/plain": [
       "['a', 'b']"
      ]
     },
     "execution_count": 117,
     "metadata": {},
     "output_type": "execute_result"
    }
   ],
   "source": [
    "list(my_data.keys())  # an alternative method to get names of stored arrays"
   ]
  },
  {
   "cell_type": "code",
   "execution_count": 118,
   "id": "69f594f3",
   "metadata": {},
   "outputs": [
    {
     "data": {
      "text/plain": [
       "[array([0, 1, 2, 3, 4, 5, 6, 7, 8, 9]), array([0, 1, 2, 3, 4, 5, 6, 7, 8, 9])]"
      ]
     },
     "execution_count": 118,
     "metadata": {},
     "output_type": "execute_result"
    }
   ],
   "source": [
    "list(my_data.values()) # get values of all stored arrays"
   ]
  },
  {
   "cell_type": "code",
   "execution_count": 119,
   "id": "23da27c6",
   "metadata": {},
   "outputs": [
    {
     "data": {
      "text/plain": [
       "[('a', array([0, 1, 2, 3, 4, 5, 6, 7, 8, 9])),\n",
       " ('b', array([0, 1, 2, 3, 4, 5, 6, 7, 8, 9]))]"
      ]
     },
     "execution_count": 119,
     "metadata": {},
     "output_type": "execute_result"
    }
   ],
   "source": [
    "list(my_data.items()) # load data as a list of tuples: name and value"
   ]
  },
  {
   "cell_type": "code",
   "execution_count": 120,
   "id": "3c12a3d9",
   "metadata": {},
   "outputs": [
    {
     "data": {
      "text/plain": [
       "array([0, 1, 2, 3, 4, 5, 6, 7, 8, 9])"
      ]
     },
     "execution_count": 120,
     "metadata": {},
     "output_type": "execute_result"
    }
   ],
   "source": [
    "my_data['a'] # extract required array by its name"
   ]
  },
  {
   "cell_type": "markdown",
   "id": "f4bd305b",
   "metadata": {},
   "source": [
    "The second option mentioned above was reading data from other formats. The most popular format to share data between different applications is `.csv` -- comma separated values -- text file universally supported by all applications. We can save a numpy array as a text file and we can load a text file into an array. As you should be able to guess, the functions are `np.savetxt()` and `np.loadtxt()`"
   ]
  },
  {
   "cell_type": "code",
   "execution_count": 121,
   "id": "8ad6a91d",
   "metadata": {},
   "outputs": [],
   "source": [
    "arr = np.arange(15).reshape(3,5) # create a test array\n",
    "# save an array in a text file with comma as a delimiter and format for numbers integer\n",
    "np.savetxt(\"my_array.csv\", arr, fmt = \"%d\", delimiter = \",\") "
   ]
  },
  {
   "cell_type": "markdown",
   "id": "21d3339d",
   "metadata": {},
   "source": [
    "Check the working directory, you'll see a file `my_array.csv`. You can use Excel to open it or any text-editor.\n",
    "\n",
    "It is important to understand that whatever you store in a text file is a text. Even if you see numbers -- they are a string. So, the numerical array was converted in to a string. Please recall different formats to output numbers as a string. We have to provide correct information about how to convert numbers in a string by using parameter `fmt`. \n",
    "\n",
    "Comma delimited values is the most common format for semi-structured data, however the might be other options. You are free to use any character as a delimiter.\n",
    "\n",
    "Now, loading data from text file."
   ]
  },
  {
   "cell_type": "code",
   "execution_count": 122,
   "id": "ebe9c0c1",
   "metadata": {},
   "outputs": [
    {
     "data": {
      "text/plain": [
       "array([[ 0,  1,  2,  3,  4],\n",
       "       [ 5,  6,  7,  8,  9],\n",
       "       [10, 11, 12, 13, 14]])"
      ]
     },
     "execution_count": 122,
     "metadata": {},
     "output_type": "execute_result"
    }
   ],
   "source": [
    "# load data from csv file and convert it in integer\n",
    "arr = np.loadtxt(\"my_array.csv\", dtype = int, delimiter = \",\")\n",
    "arr"
   ]
  },
  {
   "cell_type": "markdown",
   "id": "598334af",
   "metadata": {},
   "source": [
    "No need to memorise these functions. For practical purposes we are going to use more advanced functions for loading data from Pandas package -- it is a next week topic. However, it is very useful to get a general understanding of how data loading functions work as they work very similar in all packages and in all programming languages: provide a file name, provide a delimiter, set a format to convert loaded data. There are a lot of other parameters that you can change -- check the help file `help(np.loadtxt)`"
   ]
  },
  {
   "cell_type": "markdown",
   "id": "0d4ad824",
   "metadata": {},
   "source": [
    "## Random numbers generation\n",
    "\n",
    "Final topic about numpy is a random numbers generation. This is a very useful activity for testing your ideas and your code (besides statisical, optimisation, estimation and many other purposes). Numpy supports a very efficient generation of whole  arrays of random numbers from many kinds of probability distributions -- check `dir(np.random)`."
   ]
  },
  {
   "cell_type": "code",
   "execution_count": 123,
   "id": "3757c404",
   "metadata": {},
   "outputs": [
    {
     "data": {
      "text/plain": [
       "Text(0.5, 1.0, 'Normal distribution')"
      ]
     },
     "execution_count": 123,
     "metadata": {},
     "output_type": "execute_result"
    },
    {
     "data": {
      "image/png": "[encoded data removed]",
      "text/plain": [
       "<Figure size 432x288 with 1 Axes>"
      ]
     },
     "metadata": {
      "needs_background": "light"
     },
     "output_type": "display_data"
    }
   ],
   "source": [
    "from matplotlib import pyplot as plt    # load package for data visualisation\n",
    "\n",
    "# generate random numbers from normal distribution\n",
    "# with mean 6 and standard deviations 1\n",
    "x = np.random.normal(6, 1, size = 100000)  \n",
    "\n",
    "# plot the histogram\n",
    "plt.hist(x, bins = 50)\n",
    "plt.title(\"Normal distribution\")"
   ]
  },
  {
   "cell_type": "code",
   "execution_count": 124,
   "id": "7438560e",
   "metadata": {},
   "outputs": [
    {
     "data": {
      "text/plain": [
       "array([[0.72971457, 0.1314171 , 0.88842487, 0.86526323, 0.07404352],\n",
       "       [0.73176391, 0.14552428, 0.55043932, 0.01312726, 0.95450795],\n",
       "       [0.41116569, 0.2915605 , 0.40902978, 0.77093363, 0.74285514],\n",
       "       [0.71424071, 0.45524603, 0.10945024, 0.76321501, 0.14445209],\n",
       "       [0.92452784, 0.59721163, 0.07211334, 0.4656709 , 0.56854008]])"
      ]
     },
     "execution_count": 124,
     "metadata": {},
     "output_type": "execute_result"
    }
   ],
   "source": [
    "# generate an array of random numbers from uniform distribution\n",
    "# all values are between 0 and 1\n",
    "x = np.random.uniform(size = (100000,12))\n",
    "x[:5, :5]  # check first five rows and first 5 columns"
   ]
  },
  {
   "cell_type": "code",
   "execution_count": 125,
   "id": "618782eb",
   "metadata": {},
   "outputs": [
    {
     "data": {
      "text/plain": [
       "Text(0.5, 1.0, 'Uniform distribution')"
      ]
     },
     "execution_count": 125,
     "metadata": {},
     "output_type": "execute_result"
    },
    {
     "data": {
      "image/png": "[encoded data removed]",
      "text/plain": [
       "<Figure size 432x288 with 1 Axes>"
      ]
     },
     "metadata": {
      "needs_background": "light"
     },
     "output_type": "display_data"
    }
   ],
   "source": [
    "# plot the histogram of the first column, other columns are very similar\n",
    "plt.hist(x[:,0], bins = 50)\n",
    "plt.title(\"Uniform distribution\")"
   ]
  },
  {
   "cell_type": "code",
   "execution_count": 126,
   "id": "290017e2",
   "metadata": {},
   "outputs": [
    {
     "data": {
      "text/plain": [
       "(100000,)"
      ]
     },
     "execution_count": 126,
     "metadata": {},
     "output_type": "execute_result"
    }
   ],
   "source": [
    "# do summation of the array \"x\" for all 12 columns\n",
    "y = x.sum(axis = 1)\n",
    "y.shape"
   ]
  },
  {
   "cell_type": "code",
   "execution_count": 127,
   "id": "c7beb990",
   "metadata": {},
   "outputs": [
    {
     "data": {
      "text/plain": [
       "Text(0.5, 1.0, 'Summation of 12 Uniform distributions')"
      ]
     },
     "execution_count": 127,
     "metadata": {},
     "output_type": "execute_result"
    },
    {
     "data": {
      "image/png": "[encoded data removed]",
      "text/plain": [
       "<Figure size 432x288 with 1 Axes>"
      ]
     },
     "metadata": {
      "needs_background": "light"
     },
     "output_type": "display_data"
    }
   ],
   "source": [
    "# plot the histogram\n",
    "plt.hist(y, bins = 50)\n",
    "plt.title(\"Summation of 12 Uniform distributions\")"
   ]
  },
  {
   "cell_type": "markdown",
   "id": "565151b2",
   "metadata": {},
   "source": [
    "Compare the histogram of the summation of 12 uniform distributions to the histogram of the Normal distribution. Are they the same or different? Why? Try other distributions or try different numbers of rows and columns."
   ]
  },
  {
   "cell_type": "code",
   "execution_count": null,
   "id": "14bc4bb2",
   "metadata": {},
   "outputs": [],
   "source": []
  }
 ],
 "metadata": {
  "kernelspec": {
   "display_name": "Python 3 (ipykernel)",
   "language": "python",
   "name": "python3"
  },
  "language_info": {
   "codemirror_mode": {
    "name": "ipython",
    "version": 3
   },
   "file_extension": ".py",
   "mimetype": "text/x-python",
   "name": "python",
   "nbconvert_exporter": "python",
   "pygments_lexer": "ipython3",
   "version": "3.9.13"
  }
 },
 "nbformat": 4,
 "nbformat_minor": 5
}
