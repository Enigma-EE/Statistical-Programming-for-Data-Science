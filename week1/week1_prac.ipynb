{
 "cells": [
  {
   "cell_type": "code",
   "execution_count": 1,
   "metadata": {},
   "outputs": [
    {
     "name": "stdout",
     "output_type": "stream",
     "text": [
      "d:\\2023S1\\programing_for_ds\\week1\n"
     ]
    }
   ],
   "source": [
    "import os\n",
    "cwd = os.getcwd()\n",
    "print(cwd)"
   ]
  },
  {
   "cell_type": "code",
   "execution_count": 2,
   "metadata": {},
   "outputs": [],
   "source": [
    "# os.chdir('/Users/andrew/Documents/Python/Python_Bootcamp/week1')"
   ]
  },
  {
   "attachments": {},
   "cell_type": "markdown",
   "metadata": {},
   "source": [
    "### Exercise 1: Make a script\n"
   ]
  },
  {
   "attachments": {},
   "cell_type": "markdown",
   "metadata": {},
   "source": [
    "1. Create a script (e.g. “Hello_World.py”) in your Python editor that contains this code, and make sure you can successfully run the script.\n"
   ]
  },
  {
   "cell_type": "code",
   "execution_count": 3,
   "metadata": {},
   "outputs": [
    {
     "name": "stdout",
     "output_type": "stream",
     "text": [
      "Hello World\n"
     ]
    }
   ],
   "source": [
    "print('Hello World')"
   ]
  },
  {
   "attachments": {},
   "cell_type": "markdown",
   "metadata": {},
   "source": [
    "2. Edit your script file to prompt the user for their name (and any other information you might be interested in) and then output to the scree a greeting that includes their name and this other information.\n"
   ]
  },
  {
   "cell_type": "code",
   "execution_count": 4,
   "metadata": {},
   "outputs": [
    {
     "name": "stdout",
     "output_type": "stream",
     "text": [
      "Hello vedal you are 11 years old. Your favorite color is y and your favorite animal is anteater\n"
     ]
    }
   ],
   "source": [
    "# prompt the user for their name\n",
    "name = input('What is your name? ')\n",
    "# prompt the user for their age\n",
    "age = input('What is your age? ')\n",
    "# prompt the user for their favorite color\n",
    "color = input('What is your favorite color? ')\n",
    "# prompt the user for their favorite animal\n",
    "animal = input('What is your favorite animal? ')\n",
    "# print a greeting that includes their name and this other information\n",
    "print('Hello', name, 'you are', age, 'years old. Your favorite color is', color, 'and your favorite animal is', animal)"
   ]
  },
  {
   "attachments": {},
   "cell_type": "markdown",
   "metadata": {},
   "source": [
    "### Exercise 2: Comparison Operators"
   ]
  },
  {
   "cell_type": "code",
   "execution_count": 5,
   "metadata": {},
   "outputs": [],
   "source": [
    "x = 5\n",
    "y = 1\n",
    "z = 5"
   ]
  },
  {
   "cell_type": "code",
   "execution_count": 6,
   "metadata": {},
   "outputs": [
    {
     "data": {
      "text/plain": [
       "False"
      ]
     },
     "execution_count": 6,
     "metadata": {},
     "output_type": "execute_result"
    }
   ],
   "source": [
    "res =x < y\n",
    "res"
   ]
  },
  {
   "cell_type": "code",
   "execution_count": 7,
   "metadata": {},
   "outputs": [
    {
     "data": {
      "text/plain": [
       "True"
      ]
     },
     "execution_count": 7,
     "metadata": {},
     "output_type": "execute_result"
    }
   ],
   "source": [
    "x == z"
   ]
  },
  {
   "cell_type": "code",
   "execution_count": 8,
   "metadata": {},
   "outputs": [
    {
     "data": {
      "text/plain": [
       "False"
      ]
     },
     "execution_count": 8,
     "metadata": {},
     "output_type": "execute_result"
    }
   ],
   "source": [
    "y < z and z < y"
   ]
  },
  {
   "cell_type": "code",
   "execution_count": 9,
   "metadata": {},
   "outputs": [
    {
     "data": {
      "text/plain": [
       "True"
      ]
     },
     "execution_count": 9,
     "metadata": {},
     "output_type": "execute_result"
    }
   ],
   "source": [
    "y < x or y == z"
   ]
  },
  {
   "attachments": {},
   "cell_type": "markdown",
   "metadata": {},
   "source": [
    "### Exercise 3: Logic Evaluation"
   ]
  },
  {
   "cell_type": "code",
   "execution_count": 10,
   "metadata": {},
   "outputs": [
    {
     "data": {
      "text/plain": [
       "True"
      ]
     },
     "execution_count": 10,
     "metadata": {},
     "output_type": "execute_result"
    }
   ],
   "source": [
    "# input a integer\n",
    "a = int(input('Enter an integer a: '))\n",
    "b = int(input('Enter an integer b: '))\n",
    "c = a < b or a + b < 10\n",
    "c"
   ]
  },
  {
   "cell_type": "code",
   "execution_count": 11,
   "metadata": {},
   "outputs": [
    {
     "data": {
      "text/plain": [
       "True"
      ]
     },
     "execution_count": 11,
     "metadata": {},
     "output_type": "execute_result"
    }
   ],
   "source": [
    "# input a integer\n",
    "a = int(input('Enter an integer a: '))\n",
    "b = int(input('Enter an integer b: '))\n",
    "c = not a < b or a + b < 10\n",
    "c"
   ]
  },
  {
   "cell_type": "code",
   "execution_count": 12,
   "metadata": {},
   "outputs": [
    {
     "data": {
      "text/plain": [
       "False"
      ]
     },
     "execution_count": 12,
     "metadata": {},
     "output_type": "execute_result"
    }
   ],
   "source": [
    "# input a integer\n",
    "a = int(input('Enter an integer a: '))\n",
    "b = int(input('Enter an integer b: '))\n",
    "c = a < b and a + b < 10\n",
    "c"
   ]
  },
  {
   "cell_type": "code",
   "execution_count": 13,
   "metadata": {},
   "outputs": [
    {
     "data": {
      "text/plain": [
       "False"
      ]
     },
     "execution_count": 13,
     "metadata": {},
     "output_type": "execute_result"
    }
   ],
   "source": [
    "# input a integer\n",
    "a = int(input('Enter an integer a: '))\n",
    "b = int(input('Enter an integer b: '))\n",
    "c = not (a < b or a + b < 10)\n",
    "c"
   ]
  },
  {
   "attachments": {},
   "cell_type": "markdown",
   "metadata": {},
   "source": [
    "### Exercise 4: Boolean Practice"
   ]
  },
  {
   "cell_type": "code",
   "execution_count": 15,
   "metadata": {},
   "outputs": [
    {
     "name": "stdout",
     "output_type": "stream",
     "text": [
      "0 1 2 3 4 5 6 7 8 9 10 11 12 13 14 15 16 17 18 19 20 "
     ]
    }
   ],
   "source": [
    "# all integer variable count being in the range 0 to 20 inclusive\n",
    "count = 0\n",
    "# for loop to count from 0 to 20\n",
    "for count in range(0, 21):\n",
    "    # print the value of count separated by a space without a newline\n",
    "    print(count, end=' ')\n"
   ]
  },
  {
   "cell_type": "code",
   "execution_count": 35,
   "metadata": {},
   "outputs": [
    {
     "data": {
      "text/plain": [
       "True"
      ]
     },
     "execution_count": 35,
     "metadata": {},
     "output_type": "execute_result"
    }
   ],
   "source": [
    "count = 1\n",
    "count >= 0 and count <= 20"
   ]
  },
  {
   "cell_type": "code",
   "execution_count": 22,
   "metadata": {},
   "outputs": [
    {
     "name": "stdout",
     "output_type": "stream",
     "text": [
      "1 4 11 10 11 "
     ]
    }
   ],
   "source": [
    "# An randon integer variable count being outside of the range 0 to 20 inclusive.\n",
    "# import the random module\n",
    "import random\n",
    "# generate 5 random integer between 0 and 20\n",
    "for i in range(5):\n",
    "    count = random.randint(0, 20)\n",
    "    # print the value of count separated by a space without a newline\n",
    "    print(count, end=' ')"
   ]
  },
  {
   "cell_type": "code",
   "execution_count": 23,
   "metadata": {},
   "outputs": [
    {
     "name": "stdout",
     "output_type": "stream",
     "text": [
      "The 3 integers are not valid lengths of a triangle\n"
     ]
    }
   ],
   "source": [
    "# whether the 3 integers valuse are valid lengths of a triangle\n",
    "# input 3 integers\n",
    "a = int(input('Enter an integer a: '))\n",
    "b = int(input('Enter an integer b: '))\n",
    "c = int(input('Enter an integer c: '))\n",
    "# check whether the 3 integers are valid lengths of a triangle\n",
    "if a + b > c and a + c > b and b + c > a:\n",
    "    # print the result\n",
    "    print('The 3 integers are valid lengths of a triangle')\n",
    "else:\n",
    "    # print the result\n",
    "    print('The 3 integers are not valid lengths of a triangle')\n",
    "    "
   ]
  },
  {
   "cell_type": "code",
   "execution_count": 28,
   "metadata": {},
   "outputs": [
    {
     "name": "stdout",
     "output_type": "stream",
     "text": [
      "The third side is 7.0710678118654755\n",
      "The triangle is not equilateral\n"
     ]
    }
   ],
   "source": [
    "# a, b, c are the 3 sides of a triangle, if the triangle equilateral \n",
    "# input 2 integers\n",
    "a = int(input('Enter an integer a: '))\n",
    "b = int(input('Enter an integer b: '))\n",
    "# calculate the third side\n",
    "c = (a ** 2 + b ** 2) ** 0.5\n",
    "# print the result\n",
    "print('The third side is', c)\n",
    "# whether the triangle is equilateral\n",
    "if a == b and b == c:\n",
    "    print('The triangle is equilateral')\n",
    "else:\n",
    "    print('The triangle is not equilateral')\n"
   ]
  },
  {
   "cell_type": "code",
   "execution_count": 30,
   "metadata": {},
   "outputs": [
    {
     "name": "stdout",
     "output_type": "stream",
     "text": [
      "The third side is 4.242640687119285\n",
      "The triangle is isosceles\n"
     ]
    }
   ],
   "source": [
    "# a, b, c are the 3 sides of a triangle, if the triangle isosceles\n",
    "# input 2 integers\n",
    "a = int(input('Enter an integer a: '))\n",
    "b = int(input('Enter an integer b: '))\n",
    "# calculate the third side\n",
    "c = (a ** 2 + b ** 2) ** 0.5\n",
    "# print the result\n",
    "print('The third side is', c)\n",
    "# whether the triangle is isosceles\n",
    "if a == b or b == c or a == c:\n",
    "    print('The triangle is isosceles')\n",
    "else:\n",
    "    print('The triangle is not isosceles')\n",
    "    "
   ]
  },
  {
   "cell_type": "code",
   "execution_count": 31,
   "metadata": {},
   "outputs": [
    {
     "name": "stdout",
     "output_type": "stream",
     "text": [
      "The third side is 2.23606797749979\n",
      "The triangle is scalene\n"
     ]
    }
   ],
   "source": [
    "# a, b, c are the 3 sides of a triangle, if the triangle scalene\n",
    "# input 2 integers\n",
    "a = int(input('Enter an integer a: '))\n",
    "b = int(input('Enter an integer b: '))\n",
    "# calculate the third side\n",
    "c = (a ** 2 + b ** 2) ** 0.5\n",
    "# print the result\n",
    "print('The third side is', c)\n",
    "# whether the triangle is scalene\n",
    "if a != b and b != c and a != c:\n",
    "    print('The triangle is scalene')\n",
    "else:\n",
    "    print('The triangle is not scalene')\n",
    "    "
   ]
  },
  {
   "cell_type": "code",
   "execution_count": 38,
   "metadata": {},
   "outputs": [
    {
     "data": {
      "text/plain": [
       "True"
      ]
     },
     "execution_count": 38,
     "metadata": {},
     "output_type": "execute_result"
    }
   ],
   "source": [
    "s1 =3\n",
    "s2 =4\n",
    "s3 =5\n",
    "\n",
    "non_neg = (s1 > 0 and s2 > 0 and s3 > 0) \n",
    "non_eq = (s1 != s2 or s2 != s3 or s1 != s3) \n",
    "length = (s1 + s2 > s3 and s1 + s3 > s2 and s2 + s3 > s1)\n",
    "\n",
    "non_neg and non_eq and length\n"
   ]
  },
  {
   "cell_type": "code",
   "execution_count": 32,
   "metadata": {},
   "outputs": [
    {
     "name": "stdout",
     "output_type": "stream",
     "text": [
      "The third side is 5.385164807134504\n",
      "The triangle is not right-angled\n"
     ]
    }
   ],
   "source": [
    "# a, b, c are the 3 sides of a triangle, if the triangle right-angled\n",
    "# input 2 integers\n",
    "a = int(input('Enter an integer a: '))\n",
    "b = int(input('Enter an integer b: '))\n",
    "# calculate the third side\n",
    "c = (a ** 2 + b ** 2) ** 0.5\n",
    "# print the result\n",
    "print('The third side is', c)\n",
    "# whether the triangle is right-angled\n",
    "if a ** 2 + b ** 2 == c ** 2 or a ** 2 + c ** 2 == b ** 2 or b ** 2 + c ** 2 == a ** 2:\n",
    "    print('The triangle is right-angled')\n",
    "else:\n",
    "    print('The triangle is not right-angled')\n",
    "    "
   ]
  },
  {
   "attachments": {},
   "cell_type": "markdown",
   "metadata": {},
   "source": [
    "### Exercise 5: Syntax checking"
   ]
  },
  {
   "cell_type": "code",
   "execution_count": 33,
   "metadata": {},
   "outputs": [
    {
     "name": "stdout",
     "output_type": "stream",
     "text": [
      "a is smaller than b\n",
      "a= 3 b= 3\n"
     ]
    }
   ],
   "source": [
    "if a < b:\n",
    "    print('a is smaller than b')\n",
    "else:\n",
    "    print('b is smaller than a')\n",
    "\n",
    "b -= a\n",
    "a += 1\n",
    "\n",
    "print('a=', a, 'b=', b)\n"
   ]
  },
  {
   "cell_type": "code",
   "execution_count": 34,
   "metadata": {},
   "outputs": [
    {
     "name": "stdout",
     "output_type": "stream",
     "text": [
      "3\n",
      "3 3\n"
     ]
    }
   ],
   "source": [
    "if a + b > 3:\n",
    "    if b < 5:\n",
    "        print (b)\n",
    "    elif a > 2:\n",
    "        print (a)\n",
    "    else :\n",
    "        print (a + b)\n",
    "else:\n",
    "    print (a - b)\n",
    "print (a , b)\n"
   ]
  },
  {
   "attachments": {},
   "cell_type": "markdown",
   "metadata": {},
   "source": [
    "### Exercise 6: Random Number Generation"
   ]
  },
  {
   "cell_type": "code",
   "execution_count": 39,
   "metadata": {},
   "outputs": [
    {
     "name": "stdout",
     "output_type": "stream",
     "text": [
      "You guessed wrong!\n",
      "The number is 2\n"
     ]
    }
   ],
   "source": [
    "import random\n",
    "# generate a random number between 1 – 10\n",
    "num = random.randint(1, 10)\n",
    "# prompt the user to guess the number\n",
    "guess = int(input('Guess a number between 1 and 10: '))\n",
    "# check whether the guess is correct\n",
    "if guess == num:\n",
    "    print('You guessed it!')\n",
    "else:\n",
    "    print('You guessed wrong!')\n",
    "    print('The number is', num)\n"
   ]
  },
  {
   "attachments": {},
   "cell_type": "markdown",
   "metadata": {},
   "source": [
    "### Exercise 7: Ternary expressions"
   ]
  },
  {
   "cell_type": "code",
   "execution_count": 40,
   "metadata": {},
   "outputs": [
    {
     "name": "stdout",
     "output_type": "stream",
     "text": [
      "10 is the larger number\n"
     ]
    }
   ],
   "source": [
    "# Using a ternary expression, if the first number is larger, output this value and the statement that this is the larger number. Else, output the second number followed with a statement that this number is the larger of the two.\n",
    "# input 2 integers\n",
    "a = int(input('Enter an integer a: '))\n",
    "b = int(input('Enter an integer b: '))\n",
    "# check whether the first number is larger\n",
    "if a > b:\n",
    "    # print the result\n",
    "    print(a, 'is the larger number')\n",
    "else:\n",
    "    # print the result\n",
    "    print(b, 'is the larger number')\n",
    "    "
   ]
  },
  {
   "cell_type": "code",
   "execution_count": 56,
   "metadata": {},
   "outputs": [
    {
     "name": "stdout",
     "output_type": "stream",
     "text": [
      "4 is the larger number\n"
     ]
    }
   ],
   "source": [
    "a = int(input('Enter an integer a: '))\n",
    "b = int(input('Enter an integer b: '))\n",
    "\n",
    "temp = a if a > b else b\n",
    "print(temp, 'is the larger number')"
   ]
  },
  {
   "cell_type": "code",
   "execution_count": 41,
   "metadata": {},
   "outputs": [
    {
     "name": "stdout",
     "output_type": "stream",
     "text": [
      "Not the same as my name!\n"
     ]
    }
   ],
   "source": [
    "# if the name entered is the same as your own name, output the statement “Same as me!”. Otherwise, output the statement “Not the same as my name!”\n",
    "# input a name\n",
    "name = input('Enter a name: ')\n",
    "# check whether the name is the same as my name\n",
    "if name == 'Enna':\n",
    "    # print the result\n",
    "    print('Same as me!')\n",
    "else:\n",
    "    # print the result\n",
    "    print('Not the same as my name!')\n",
    "    "
   ]
  },
  {
   "attachments": {},
   "cell_type": "markdown",
   "metadata": {},
   "source": [
    "### Exercise 8: Game Two-up"
   ]
  },
  {
   "attachments": {},
   "cell_type": "markdown",
   "metadata": {},
   "source": [
    "A person is selected as the Spinner. The Spinner tosses two coins in the air until they\n",
    "win or lose.\n",
    "\n",
    "- Two heads means the Spinner wins.\n",
    "- Two tails means the Spinner loses.\n",
    "- Odds (One coin lands with the ‘head’ side up, and the other lands with the ‘tails’ side up) means the\n",
    "\n",
    "Spinner throws again. For this exercise you are being asked to write a simplified Two-up simulator.\n",
    "Write a program which simulates the toss of two coins. If the two coins land heads up, display Spinner Wins!\n",
    "Two heads!. If the two coins land tails up, display Spinner Loses! Two tails!."
   ]
  },
  {
   "cell_type": "code",
   "execution_count": 47,
   "metadata": {},
   "outputs": [
    {
     "name": "stdout",
     "output_type": "stream",
     "text": [
      "Coin 1: Tails\n",
      "Coin 2: Heads\n",
      "Odds, Spinner throws again...\n",
      "Coin 1: Heads\n",
      "Coin 2: Heads\n",
      "Spinner Wins! Two heads!\n",
      "Thanks for playing!\n"
     ]
    }
   ],
   "source": [
    "import random\n",
    "\n",
    "def two_up_simulator():\n",
    "    # Tossing the coin\n",
    "    coin1 = random.choice(['Heads', 'Tails'])\n",
    "    coin2 = random.choice(['Heads', 'Tails'])\n",
    "    print(f\"Coin 1: {coin1}\")\n",
    "    print(f\"Coin 2: {coin2}\")\n",
    "\n",
    "    # Checking the result of the toss\n",
    "    if coin1 == 'Heads' and coin2 == 'Heads':\n",
    "        print(\"Spinner Wins! Two heads!\")\n",
    "    elif coin1 == 'Tails' and coin2 == 'Tails':\n",
    "        print(\"Spinner Loses! Two tails!\")\n",
    "    else:\n",
    "        print(\"Odds, Spinner throws again...\")\n",
    "        two_up_simulator()\n",
    "\n",
    "# Running the game\n",
    "two_up_simulator()\n",
    "print(\"Thanks for playing!\")\n"
   ]
  },
  {
   "cell_type": "code",
   "execution_count": 50,
   "metadata": {},
   "outputs": [
    {
     "name": "stdout",
     "output_type": "stream",
     "text": [
      "Spinner wins! Two heads!\n"
     ]
    }
   ],
   "source": [
    "coin1 = 'head' if random.gauss(0, 1) > 0 else 'tail'\n",
    "coin2 = 'head' if random.gauss(0, 1) > 0 else 'tail'\n",
    "\n",
    "if coin1 != coin2:\n",
    "    print('Odds, Spinner throws again...')\n",
    "elif coin1 == 'head':\n",
    "    print('Spinner wins! Two heads!')\n",
    "else:\n",
    "    print('Spinner loses! Two tails!')\n",
    "       "
   ]
  },
  {
   "cell_type": "code",
   "execution_count": 52,
   "metadata": {},
   "outputs": [
    {
     "name": "stdout",
     "output_type": "stream",
     "text": [
      "Spinner wins! Two heads!\n"
     ]
    }
   ],
   "source": [
    "import random\n",
    "def coin_flip():\n",
    "    return 'head' if random.gauss(0, 1) > 0 else 'tail'\n",
    "\n",
    "coin1 = coin_flip()\n",
    "coin2 = coin_flip()\n",
    "\n",
    "if coin1 != coin2:\n",
    "    print('Odds, Spinner throws again...')\n",
    "elif coin1 == 'head':\n",
    "    print('Spinner wins! Two heads!')\n",
    "else:\n",
    "    print('Spinner loses! Two tails!')"
   ]
  },
  {
   "cell_type": "code",
   "execution_count": null,
   "metadata": {},
   "outputs": [],
   "source": []
  }
 ],
 "metadata": {
  "kernelspec": {
   "display_name": "Python 3",
   "language": "python",
   "name": "python3"
  },
  "language_info": {
   "codemirror_mode": {
    "name": "ipython",
    "version": 3
   },
   "file_extension": ".py",
   "mimetype": "text/x-python",
   "name": "python",
   "nbconvert_exporter": "python",
   "pygments_lexer": "ipython3",
   "version": "3.8.5"
  },
  "orig_nbformat": 4
 },
 "nbformat": 4,
 "nbformat_minor": 2
}
